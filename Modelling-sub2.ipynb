{
 "cells": [
  {
   "cell_type": "markdown",
   "metadata": {},
   "source": [
    "### Importing libraries"
   ]
  },
  {
   "cell_type": "code",
   "execution_count": 1,
   "metadata": {
    "execution": {
     "iopub.execute_input": "2022-02-05T04:38:41.040851Z",
     "iopub.status.busy": "2022-02-05T04:38:41.039779Z",
     "iopub.status.idle": "2022-02-05T04:38:43.557088Z",
     "shell.execute_reply": "2022-02-05T04:38:43.555949Z",
     "shell.execute_reply.started": "2022-02-05T04:38:41.040739Z"
    }
   },
   "outputs": [],
   "source": [
    "import numpy as np \n",
    "import pandas as pd \n",
    "import matplotlib.pyplot as plt\n",
    "import seaborn as sns\n",
    "\n",
    "from sklearn.model_selection import train_test_split\n",
    "from sklearn.preprocessing import StandardScaler\n",
    "\n",
    "import tensorflow as tf\n",
    "from tensorflow.keras.layers import Dense, Activation, Flatten, concatenate, Input, Dropout, LSTM, Bidirectional,BatchNormalization,PReLU,ReLU,Reshape\n",
    "from keras.wrappers.scikit_learn import KerasClassifier\n",
    "from sklearn.metrics import classification_report\n",
    "from tensorflow.keras.models import Sequential, Model, load_model\n",
    "\n",
    "from tensorflow.keras.callbacks import EarlyStopping, ModelCheckpoint\n",
    "\n",
    "from tensorflow import keras\n",
    "from sklearn.model_selection import cross_val_score\n",
    "\n",
    "from tensorflow.keras import layers, callbacks\n",
    "from tensorflow.keras.layers import Dropout\n",
    "from tensorflow.keras.models import Sequential\n",
    "from tensorflow.keras.layers import InputLayer,Dense, Activation, Dropout, BatchNormalization"
   ]
  },
  {
   "cell_type": "markdown",
   "metadata": {},
   "source": [
    "### Load data"
   ]
  },
  {
   "cell_type": "code",
   "execution_count": 2,
   "metadata": {
    "execution": {
     "iopub.execute_input": "2022-02-05T04:38:43.559123Z",
     "iopub.status.busy": "2022-02-05T04:38:43.558825Z",
     "iopub.status.idle": "2022-02-05T04:38:43.602549Z",
     "shell.execute_reply": "2022-02-05T04:38:43.601589Z",
     "shell.execute_reply.started": "2022-02-05T04:38:43.559078Z"
    }
   },
   "outputs": [],
   "source": [
    "df = pd.read_csv('merged_df.csv')"
   ]
  },
  {
   "cell_type": "code",
   "execution_count": 3,
   "metadata": {
    "execution": {
     "iopub.execute_input": "2022-02-05T04:38:43.605701Z",
     "iopub.status.busy": "2022-02-05T04:38:43.604998Z",
     "iopub.status.idle": "2022-02-05T04:38:43.616589Z",
     "shell.execute_reply": "2022-02-05T04:38:43.615230Z",
     "shell.execute_reply.started": "2022-02-05T04:38:43.605654Z"
    }
   },
   "outputs": [
    {
     "data": {
      "text/plain": [
       "(12811, 18)"
      ]
     },
     "execution_count": 3,
     "metadata": {},
     "output_type": "execute_result"
    }
   ],
   "source": [
    "df.shape"
   ]
  },
  {
   "cell_type": "markdown",
   "metadata": {},
   "source": [
    "### One-hot encoding of categorical variables - gender, ethnicity"
   ]
  },
  {
   "cell_type": "code",
   "execution_count": 4,
   "metadata": {
    "execution": {
     "iopub.execute_input": "2022-02-05T04:38:43.623087Z",
     "iopub.status.busy": "2022-02-05T04:38:43.622272Z",
     "iopub.status.idle": "2022-02-05T04:38:43.641417Z",
     "shell.execute_reply": "2022-02-05T04:38:43.640177Z",
     "shell.execute_reply.started": "2022-02-05T04:38:43.623049Z"
    }
   },
   "outputs": [],
   "source": [
    "df = pd.get_dummies(df)"
   ]
  },
  {
   "cell_type": "code",
   "execution_count": 5,
   "metadata": {
    "execution": {
     "iopub.execute_input": "2022-02-05T04:38:43.643490Z",
     "iopub.status.busy": "2022-02-05T04:38:43.642976Z",
     "iopub.status.idle": "2022-02-05T04:38:43.651514Z",
     "shell.execute_reply": "2022-02-05T04:38:43.650113Z",
     "shell.execute_reply.started": "2022-02-05T04:38:43.643442Z"
    }
   },
   "outputs": [
    {
     "data": {
      "text/plain": [
       "Index(['SubjectID', 'VideoID', 'Attention', 'Mediation', 'Raw', 'Delta',\n",
       "       'Theta', 'Alpha1', 'Alpha2', 'Beta1', 'Beta2', 'Gamma1', 'Gamma2',\n",
       "       'predefinedlabel', 'user-definedlabeln', 'age', 'ethnicity_Bengali',\n",
       "       'ethnicity_English', 'ethnicity_Han Chinese', 'gender_F', 'gender_M'],\n",
       "      dtype='object')"
      ]
     },
     "execution_count": 5,
     "metadata": {},
     "output_type": "execute_result"
    }
   ],
   "source": [
    "df.columns"
   ]
  },
  {
   "cell_type": "markdown",
   "metadata": {},
   "source": [
    "### Train-test Split \n",
    "- Train-test split of 85-15% done\n",
    "- Train-val split of 82-18% done so that validation data size is almost equivalent to test dataset which could help to generalize model well.\n"
   ]
  },
  {
   "cell_type": "code",
   "execution_count": 6,
   "metadata": {
    "execution": {
     "iopub.execute_input": "2022-02-05T04:38:43.654381Z",
     "iopub.status.busy": "2022-02-05T04:38:43.653560Z",
     "iopub.status.idle": "2022-02-05T04:38:43.677983Z",
     "shell.execute_reply": "2022-02-05T04:38:43.676778Z",
     "shell.execute_reply.started": "2022-02-05T04:38:43.654332Z"
    }
   },
   "outputs": [
    {
     "data": {
      "text/plain": [
       "((8928, 17), (1961, 17), (1922, 17))"
      ]
     },
     "execution_count": 6,
     "metadata": {},
     "output_type": "execute_result"
    }
   ],
   "source": [
    "df.reset_index(drop=True, inplace=True)\n",
    "y = df['user-definedlabeln']\n",
    "X = df.drop(['SubjectID', 'VideoID','predefinedlabel', 'user-definedlabeln'], axis=1)\n",
    "\n",
    "X.columns, len(X.columns)\n",
    "\n",
    "X_train,X_test,y_train,y_test = train_test_split(X,y,test_size=0.15, stratify=y)\n",
    "X_train2,X_val,y_train2,y_val = train_test_split(X_train,y_train, test_size=0.18, stratify=y_train)\n",
    "X_train2.shape,X_val.shape, X_test.shape"
   ]
  },
  {
   "cell_type": "markdown",
   "metadata": {},
   "source": [
    "### Data Scaling"
   ]
  },
  {
   "cell_type": "code",
   "execution_count": 7,
   "metadata": {
    "execution": {
     "iopub.execute_input": "2022-02-05T04:38:43.680375Z",
     "iopub.status.busy": "2022-02-05T04:38:43.680008Z",
     "iopub.status.idle": "2022-02-05T04:38:43.707220Z",
     "shell.execute_reply": "2022-02-05T04:38:43.706082Z",
     "shell.execute_reply.started": "2022-02-05T04:38:43.680331Z"
    }
   },
   "outputs": [
    {
     "name": "stderr",
     "output_type": "stream",
     "text": [
      "<ipython-input-7-2f29ebd4658c>:5: SettingWithCopyWarning: \n",
      "A value is trying to be set on a copy of a slice from a DataFrame.\n",
      "Try using .loc[row_indexer,col_indexer] = value instead\n",
      "\n",
      "See the caveats in the documentation: https://pandas.pydata.org/pandas-docs/stable/user_guide/indexing.html#returning-a-view-versus-a-copy\n",
      "  X_train2[cols_to_be_scaled]= sc.fit_transform(X_train2[cols_to_be_scaled])\n",
      "C:\\Users\\Palak\\anaconda3\\lib\\site-packages\\pandas\\core\\indexing.py:1736: SettingWithCopyWarning: \n",
      "A value is trying to be set on a copy of a slice from a DataFrame.\n",
      "Try using .loc[row_indexer,col_indexer] = value instead\n",
      "\n",
      "See the caveats in the documentation: https://pandas.pydata.org/pandas-docs/stable/user_guide/indexing.html#returning-a-view-versus-a-copy\n",
      "  isetter(loc, value[:, i].tolist())\n",
      "<ipython-input-7-2f29ebd4658c>:6: SettingWithCopyWarning: \n",
      "A value is trying to be set on a copy of a slice from a DataFrame.\n",
      "Try using .loc[row_indexer,col_indexer] = value instead\n",
      "\n",
      "See the caveats in the documentation: https://pandas.pydata.org/pandas-docs/stable/user_guide/indexing.html#returning-a-view-versus-a-copy\n",
      "  X_val[cols_to_be_scaled] = sc.transform(X_val[cols_to_be_scaled])\n",
      "C:\\Users\\Palak\\anaconda3\\lib\\site-packages\\pandas\\core\\indexing.py:1736: SettingWithCopyWarning: \n",
      "A value is trying to be set on a copy of a slice from a DataFrame.\n",
      "Try using .loc[row_indexer,col_indexer] = value instead\n",
      "\n",
      "See the caveats in the documentation: https://pandas.pydata.org/pandas-docs/stable/user_guide/indexing.html#returning-a-view-versus-a-copy\n",
      "  isetter(loc, value[:, i].tolist())\n",
      "<ipython-input-7-2f29ebd4658c>:7: SettingWithCopyWarning: \n",
      "A value is trying to be set on a copy of a slice from a DataFrame.\n",
      "Try using .loc[row_indexer,col_indexer] = value instead\n",
      "\n",
      "See the caveats in the documentation: https://pandas.pydata.org/pandas-docs/stable/user_guide/indexing.html#returning-a-view-versus-a-copy\n",
      "  X_test[cols_to_be_scaled] = sc.transform(X_test[cols_to_be_scaled])\n",
      "C:\\Users\\Palak\\anaconda3\\lib\\site-packages\\pandas\\core\\indexing.py:1736: SettingWithCopyWarning: \n",
      "A value is trying to be set on a copy of a slice from a DataFrame.\n",
      "Try using .loc[row_indexer,col_indexer] = value instead\n",
      "\n",
      "See the caveats in the documentation: https://pandas.pydata.org/pandas-docs/stable/user_guide/indexing.html#returning-a-view-versus-a-copy\n",
      "  isetter(loc, value[:, i].tolist())\n"
     ]
    }
   ],
   "source": [
    "cols_to_be_scaled = ['Attention', 'Mediation', 'Raw', 'Delta', 'Theta', 'Alpha1', 'Alpha2',\n",
    "        'Beta1', 'Beta2', 'Gamma1', 'Gamma2', 'age']\n",
    "\n",
    "sc = StandardScaler() \n",
    "X_train2[cols_to_be_scaled]= sc.fit_transform(X_train2[cols_to_be_scaled])\n",
    "X_val[cols_to_be_scaled] = sc.transform(X_val[cols_to_be_scaled])\n",
    "X_test[cols_to_be_scaled] = sc.transform(X_test[cols_to_be_scaled])"
   ]
  },
  {
   "cell_type": "markdown",
   "metadata": {},
   "source": [
    "### MLP Model Architecture\n",
    "\n",
    "- After lot of experimentation parameters for the models are selected."
   ]
  },
  {
   "cell_type": "code",
   "execution_count": 8,
   "metadata": {
    "execution": {
     "iopub.execute_input": "2022-02-05T04:38:43.709510Z",
     "iopub.status.busy": "2022-02-05T04:38:43.709110Z",
     "iopub.status.idle": "2022-02-05T04:38:43.723671Z",
     "shell.execute_reply": "2022-02-05T04:38:43.722159Z",
     "shell.execute_reply.started": "2022-02-05T04:38:43.709422Z"
    }
   },
   "outputs": [],
   "source": [
    "from tensorflow.keras.models import Sequential\n",
    "\n",
    "def mlp_model():\n",
    "    tf.keras.backend.clear_session() # clear up memory / clear up any previous loaded graphs\n",
    "    model = Sequential()\n",
    "    model.add(InputLayer(input_shape=(17,)))\n",
    "    # First hidden layer\n",
    "    model.add(Dense(units=512,activation='relu'))\n",
    "    model.add(BatchNormalization())\n",
    "    model.add(Dropout(0.2))\n",
    "    # Second hidden layer\n",
    "    model.add(Dense(units=256,activation='relu'))\n",
    "    model.add(BatchNormalization())\n",
    "    model.add(Dropout(0.2))\n",
    "\n",
    "    model.add(Dense(units=128,activation='relu'))\n",
    "    model.add(BatchNormalization())\n",
    "    model.add(Dropout(0.2))\n",
    "\n",
    "    model.add(Dense(units=64,activation='relu'))\n",
    "    model.add(BatchNormalization())\n",
    "    model.add(Dropout(0.2))\n",
    "\n",
    "    model.add(Dense(units=64,activation='relu'))\n",
    "    model.add(BatchNormalization())\n",
    "    model.add(Dropout(0.2))\n",
    "\n",
    "\n",
    "    model.add(Dense(units=32,activation='relu'))\n",
    "    model.add(BatchNormalization())\n",
    "    model.add(Dropout(0.2))\n",
    "\n",
    "\n",
    "    #  Output layer with 1 sigmoid unit as we ll have binary classifier\n",
    "    model.add(Dense(1,activation='sigmoid') )\n",
    "\n",
    "    opt = keras.optimizers.Adam(learning_rate=0.01)\n",
    "    model.compile(optimizer=opt, loss='binary_crossentropy', metrics='accuracy')\n",
    "    \n",
    "    return model "
   ]
  },
  {
   "cell_type": "code",
   "execution_count": 9,
   "metadata": {
    "execution": {
     "iopub.execute_input": "2022-02-05T04:38:43.726299Z",
     "iopub.status.busy": "2022-02-05T04:38:43.725931Z",
     "iopub.status.idle": "2022-02-05T04:38:43.740684Z",
     "shell.execute_reply": "2022-02-05T04:38:43.739513Z",
     "shell.execute_reply.started": "2022-02-05T04:38:43.726253Z"
    }
   },
   "outputs": [
    {
     "data": {
      "text/plain": [
       "((8928, 17), (1961, 17), (1922, 17))"
      ]
     },
     "execution_count": 9,
     "metadata": {},
     "output_type": "execute_result"
    }
   ],
   "source": [
    "X_train2.shape, X_val.shape, X_test.shape"
   ]
  },
  {
   "cell_type": "code",
   "execution_count": 10,
   "metadata": {
    "execution": {
     "iopub.execute_input": "2022-02-05T04:38:43.756176Z",
     "iopub.status.busy": "2022-02-05T04:38:43.755125Z",
     "iopub.status.idle": "2022-02-05T04:40:09.054373Z",
     "shell.execute_reply": "2022-02-05T04:40:09.053267Z",
     "shell.execute_reply.started": "2022-02-05T04:38:43.756122Z"
    }
   },
   "outputs": [
    {
     "name": "stdout",
     "output_type": "stream",
     "text": [
      "Epoch 1/80\n",
      "70/70 [==============================] - 3s 14ms/step - loss: 0.7004 - accuracy: 0.5813 - val_loss: 0.6525 - val_accuracy: 0.6201\n",
      "Epoch 2/80\n",
      "70/70 [==============================] - 1s 9ms/step - loss: 0.6505 - accuracy: 0.6191 - val_loss: 0.6506 - val_accuracy: 0.6252\n",
      "Epoch 3/80\n",
      "70/70 [==============================] - 1s 8ms/step - loss: 0.6410 - accuracy: 0.6342 - val_loss: 0.6455 - val_accuracy: 0.6308\n",
      "Epoch 4/80\n",
      "70/70 [==============================] - 1s 9ms/step - loss: 0.6323 - accuracy: 0.6434 - val_loss: 0.6328 - val_accuracy: 0.6344\n",
      "Epoch 5/80\n",
      "70/70 [==============================] - 1s 9ms/step - loss: 0.6258 - accuracy: 0.6520 - val_loss: 0.6403 - val_accuracy: 0.6384\n",
      "Epoch 6/80\n",
      "70/70 [==============================] - 1s 8ms/step - loss: 0.6237 - accuracy: 0.6522 - val_loss: 0.6262 - val_accuracy: 0.6507\n",
      "Epoch 7/80\n",
      "70/70 [==============================] - 1s 10ms/step - loss: 0.6204 - accuracy: 0.6550 - val_loss: 0.6280 - val_accuracy: 0.6543\n",
      "Epoch 8/80\n",
      "70/70 [==============================] - 1s 17ms/step - loss: 0.6215 - accuracy: 0.6561 - val_loss: 0.6366 - val_accuracy: 0.6583\n",
      "Epoch 9/80\n",
      "70/70 [==============================] - 1s 14ms/step - loss: 0.6140 - accuracy: 0.6636 - val_loss: 0.6229 - val_accuracy: 0.6512\n",
      "Epoch 10/80\n",
      "70/70 [==============================] - 1s 14ms/step - loss: 0.6073 - accuracy: 0.6683 - val_loss: 0.6196 - val_accuracy: 0.6537\n",
      "Epoch 11/80\n",
      "70/70 [==============================] - 1s 15ms/step - loss: 0.6072 - accuracy: 0.6718 - val_loss: 0.6079 - val_accuracy: 0.6624\n",
      "Epoch 12/80\n",
      "70/70 [==============================] - 1s 15ms/step - loss: 0.6090 - accuracy: 0.6691 - val_loss: 0.6348 - val_accuracy: 0.6451\n",
      "Epoch 13/80\n",
      "70/70 [==============================] - 1s 11ms/step - loss: 0.5997 - accuracy: 0.6769 - val_loss: 0.6072 - val_accuracy: 0.6660\n",
      "Epoch 14/80\n",
      "70/70 [==============================] - 1s 14ms/step - loss: 0.6001 - accuracy: 0.6791 - val_loss: 0.6169 - val_accuracy: 0.6568\n",
      "Epoch 15/80\n",
      "70/70 [==============================] - 1s 17ms/step - loss: 0.5969 - accuracy: 0.6823 - val_loss: 0.6149 - val_accuracy: 0.6736\n",
      "Epoch 16/80\n",
      "70/70 [==============================] - 1s 15ms/step - loss: 0.5876 - accuracy: 0.6849 - val_loss: 0.6285 - val_accuracy: 0.6609\n",
      "Epoch 17/80\n",
      "70/70 [==============================] - 1s 14ms/step - loss: 0.5944 - accuracy: 0.6831 - val_loss: 0.6062 - val_accuracy: 0.6706\n",
      "Epoch 18/80\n",
      "70/70 [==============================] - 1s 14ms/step - loss: 0.5928 - accuracy: 0.6788 - val_loss: 0.6253 - val_accuracy: 0.6573\n",
      "Epoch 19/80\n",
      "70/70 [==============================] - 1s 14ms/step - loss: 0.5877 - accuracy: 0.6874 - val_loss: 0.6176 - val_accuracy: 0.6522\n",
      "Epoch 20/80\n",
      "70/70 [==============================] - 1s 14ms/step - loss: 0.5909 - accuracy: 0.6854 - val_loss: 0.6173 - val_accuracy: 0.6736\n",
      "Epoch 21/80\n",
      "70/70 [==============================] - 1s 14ms/step - loss: 0.5832 - accuracy: 0.6904 - val_loss: 0.6113 - val_accuracy: 0.6594\n",
      "Epoch 22/80\n",
      "70/70 [==============================] - 1s 14ms/step - loss: 0.5814 - accuracy: 0.6968 - val_loss: 0.6111 - val_accuracy: 0.6675\n",
      "Epoch 23/80\n",
      "70/70 [==============================] - 1s 14ms/step - loss: 0.5842 - accuracy: 0.6900 - val_loss: 0.6126 - val_accuracy: 0.6716\n",
      "Epoch 24/80\n",
      "70/70 [==============================] - 1s 13ms/step - loss: 0.5790 - accuracy: 0.6915 - val_loss: 0.6166 - val_accuracy: 0.6660\n",
      "Epoch 25/80\n",
      "70/70 [==============================] - 1s 13ms/step - loss: 0.5800 - accuracy: 0.6932 - val_loss: 0.6083 - val_accuracy: 0.6690\n",
      "Epoch 26/80\n",
      "70/70 [==============================] - 1s 13ms/step - loss: 0.5833 - accuracy: 0.6865 - val_loss: 0.5950 - val_accuracy: 0.6757\n",
      "Epoch 27/80\n",
      "70/70 [==============================] - 1s 13ms/step - loss: 0.5727 - accuracy: 0.6968 - val_loss: 0.6043 - val_accuracy: 0.6757\n",
      "Epoch 28/80\n",
      "70/70 [==============================] - 1s 13ms/step - loss: 0.5727 - accuracy: 0.6999 - val_loss: 0.5926 - val_accuracy: 0.6798\n",
      "Epoch 29/80\n",
      "70/70 [==============================] - 1s 14ms/step - loss: 0.5696 - accuracy: 0.7032 - val_loss: 0.6012 - val_accuracy: 0.6675\n",
      "Epoch 30/80\n",
      "70/70 [==============================] - 1s 13ms/step - loss: 0.5697 - accuracy: 0.7025 - val_loss: 0.5982 - val_accuracy: 0.6690\n",
      "Epoch 31/80\n",
      "70/70 [==============================] - 1s 14ms/step - loss: 0.5661 - accuracy: 0.7039 - val_loss: 0.5996 - val_accuracy: 0.6639\n",
      "Epoch 32/80\n",
      "70/70 [==============================] - 1s 14ms/step - loss: 0.5665 - accuracy: 0.7007 - val_loss: 0.5926 - val_accuracy: 0.6838\n",
      "Epoch 33/80\n",
      "70/70 [==============================] - 1s 14ms/step - loss: 0.5610 - accuracy: 0.7019 - val_loss: 0.5869 - val_accuracy: 0.6741\n",
      "Epoch 34/80\n",
      "70/70 [==============================] - 1s 13ms/step - loss: 0.5599 - accuracy: 0.7081 - val_loss: 0.5844 - val_accuracy: 0.6838\n",
      "Epoch 35/80\n",
      "70/70 [==============================] - 1s 13ms/step - loss: 0.5617 - accuracy: 0.7081 - val_loss: 0.5836 - val_accuracy: 0.6910\n",
      "Epoch 36/80\n",
      "70/70 [==============================] - 1s 14ms/step - loss: 0.5624 - accuracy: 0.7053 - val_loss: 0.5885 - val_accuracy: 0.6747\n",
      "Epoch 37/80\n",
      "70/70 [==============================] - 1s 14ms/step - loss: 0.5598 - accuracy: 0.7111 - val_loss: 0.5960 - val_accuracy: 0.6823\n",
      "Epoch 38/80\n",
      "70/70 [==============================] - 1s 15ms/step - loss: 0.5540 - accuracy: 0.7182 - val_loss: 0.6013 - val_accuracy: 0.6777\n",
      "Epoch 39/80\n",
      "70/70 [==============================] - 1s 18ms/step - loss: 0.5521 - accuracy: 0.7112 - val_loss: 0.5994 - val_accuracy: 0.6879\n",
      "Epoch 40/80\n",
      "70/70 [==============================] - 1s 15ms/step - loss: 0.5530 - accuracy: 0.7111 - val_loss: 0.5983 - val_accuracy: 0.6772\n",
      "Epoch 41/80\n",
      "70/70 [==============================] - 1s 15ms/step - loss: 0.5486 - accuracy: 0.7196 - val_loss: 0.5882 - val_accuracy: 0.6879\n",
      "Epoch 42/80\n",
      "70/70 [==============================] - 1s 14ms/step - loss: 0.5491 - accuracy: 0.7145 - val_loss: 0.6018 - val_accuracy: 0.6940\n",
      "Epoch 43/80\n",
      "70/70 [==============================] - 1s 16ms/step - loss: 0.5467 - accuracy: 0.7124 - val_loss: 0.6168 - val_accuracy: 0.6777\n",
      "Epoch 44/80\n",
      "70/70 [==============================] - 1s 14ms/step - loss: 0.5449 - accuracy: 0.7175 - val_loss: 0.5860 - val_accuracy: 0.6910\n",
      "Epoch 45/80\n",
      "70/70 [==============================] - 1s 14ms/step - loss: 0.5468 - accuracy: 0.7219 - val_loss: 0.6189 - val_accuracy: 0.6721\n",
      "Epoch 46/80\n",
      "70/70 [==============================] - 1s 14ms/step - loss: 0.5458 - accuracy: 0.7195 - val_loss: 0.6015 - val_accuracy: 0.6854\n",
      "Epoch 47/80\n",
      "70/70 [==============================] - 1s 15ms/step - loss: 0.5463 - accuracy: 0.7166 - val_loss: 0.6017 - val_accuracy: 0.6762\n",
      "Epoch 48/80\n",
      "70/70 [==============================] - 1s 15ms/step - loss: 0.5447 - accuracy: 0.7216 - val_loss: 0.5879 - val_accuracy: 0.6741\n",
      "Epoch 49/80\n",
      "70/70 [==============================] - 1s 14ms/step - loss: 0.5426 - accuracy: 0.7191 - val_loss: 0.5894 - val_accuracy: 0.6838\n",
      "Epoch 50/80\n",
      "70/70 [==============================] - 1s 14ms/step - loss: 0.5352 - accuracy: 0.7293 - val_loss: 0.6117 - val_accuracy: 0.6808\n",
      "Epoch 51/80\n",
      "70/70 [==============================] - 1s 15ms/step - loss: 0.5379 - accuracy: 0.7252 - val_loss: 0.5958 - val_accuracy: 0.6838\n",
      "Epoch 52/80\n",
      "70/70 [==============================] - 1s 15ms/step - loss: 0.5345 - accuracy: 0.7263 - val_loss: 0.6119 - val_accuracy: 0.6818\n",
      "Epoch 53/80\n",
      "70/70 [==============================] - 1s 14ms/step - loss: 0.5381 - accuracy: 0.7245 - val_loss: 0.6183 - val_accuracy: 0.6757\n",
      "Epoch 54/80\n",
      "70/70 [==============================] - 1s 16ms/step - loss: 0.5381 - accuracy: 0.7218 - val_loss: 0.5793 - val_accuracy: 0.6930\n",
      "Epoch 55/80\n",
      "70/70 [==============================] - 1s 14ms/step - loss: 0.5325 - accuracy: 0.7286 - val_loss: 0.5965 - val_accuracy: 0.6813\n",
      "Epoch 56/80\n",
      "70/70 [==============================] - 1s 14ms/step - loss: 0.5330 - accuracy: 0.7315 - val_loss: 0.5944 - val_accuracy: 0.6813\n",
      "Epoch 57/80\n",
      "70/70 [==============================] - 1s 15ms/step - loss: 0.5301 - accuracy: 0.7340 - val_loss: 0.5887 - val_accuracy: 0.6859\n",
      "Epoch 58/80\n",
      "70/70 [==============================] - 1s 14ms/step - loss: 0.5278 - accuracy: 0.7301 - val_loss: 0.5978 - val_accuracy: 0.6925\n"
     ]
    },
    {
     "name": "stdout",
     "output_type": "stream",
     "text": [
      "Epoch 59/80\n",
      "70/70 [==============================] - 1s 14ms/step - loss: 0.5273 - accuracy: 0.7278 - val_loss: 0.5860 - val_accuracy: 0.6910\n",
      "Epoch 60/80\n",
      "70/70 [==============================] - 1s 14ms/step - loss: 0.5206 - accuracy: 0.7375 - val_loss: 0.6017 - val_accuracy: 0.6741\n",
      "Epoch 61/80\n",
      "70/70 [==============================] - 1s 13ms/step - loss: 0.5242 - accuracy: 0.7304 - val_loss: 0.5865 - val_accuracy: 0.6711\n",
      "Epoch 62/80\n",
      "70/70 [==============================] - 1s 14ms/step - loss: 0.5240 - accuracy: 0.7366 - val_loss: 0.6200 - val_accuracy: 0.6879\n",
      "Epoch 63/80\n",
      "70/70 [==============================] - 1s 14ms/step - loss: 0.5201 - accuracy: 0.7407 - val_loss: 0.6205 - val_accuracy: 0.6777\n",
      "Epoch 64/80\n",
      "70/70 [==============================] - 1s 14ms/step - loss: 0.5150 - accuracy: 0.7385 - val_loss: 0.6043 - val_accuracy: 0.6777\n",
      "Epoch 65/80\n",
      "70/70 [==============================] - ETA: 0s - loss: 0.5168 - accuracy: 0.73 - 1s 15ms/step - loss: 0.5168 - accuracy: 0.7371 - val_loss: 0.5865 - val_accuracy: 0.6945\n",
      "Epoch 66/80\n",
      "70/70 [==============================] - 1s 14ms/step - loss: 0.5140 - accuracy: 0.7418 - val_loss: 0.5838 - val_accuracy: 0.6935\n",
      "Epoch 67/80\n",
      "70/70 [==============================] - 1s 15ms/step - loss: 0.5149 - accuracy: 0.7363 - val_loss: 0.6000 - val_accuracy: 0.6849\n",
      "Epoch 68/80\n",
      "70/70 [==============================] - 1s 14ms/step - loss: 0.5139 - accuracy: 0.7398 - val_loss: 0.5836 - val_accuracy: 0.7007\n",
      "Epoch 69/80\n",
      "70/70 [==============================] - 1s 15ms/step - loss: 0.5081 - accuracy: 0.7473 - val_loss: 0.5878 - val_accuracy: 0.6854\n",
      "Epoch 70/80\n",
      "70/70 [==============================] - 1s 14ms/step - loss: 0.5023 - accuracy: 0.7468 - val_loss: 0.5970 - val_accuracy: 0.6920\n",
      "Epoch 71/80\n",
      "70/70 [==============================] - 1s 14ms/step - loss: 0.5059 - accuracy: 0.7434 - val_loss: 0.6160 - val_accuracy: 0.6961\n",
      "Epoch 72/80\n",
      "70/70 [==============================] - 1s 14ms/step - loss: 0.5121 - accuracy: 0.7396 - val_loss: 0.5992 - val_accuracy: 0.7037\n",
      "Epoch 73/80\n",
      "70/70 [==============================] - 1s 14ms/step - loss: 0.4992 - accuracy: 0.7447 - val_loss: 0.6087 - val_accuracy: 0.6951\n",
      "Epoch 74/80\n",
      "70/70 [==============================] - 1s 14ms/step - loss: 0.5025 - accuracy: 0.7452 - val_loss: 0.6019 - val_accuracy: 0.6976\n",
      "Epoch 75/80\n",
      "70/70 [==============================] - 1s 13ms/step - loss: 0.5050 - accuracy: 0.7405 - val_loss: 0.5906 - val_accuracy: 0.6894\n",
      "Epoch 76/80\n",
      "70/70 [==============================] - 1s 14ms/step - loss: 0.4927 - accuracy: 0.7499 - val_loss: 0.5972 - val_accuracy: 0.6823\n",
      "Epoch 77/80\n",
      "70/70 [==============================] - 1s 14ms/step - loss: 0.4949 - accuracy: 0.7511 - val_loss: 0.5984 - val_accuracy: 0.6996\n",
      "Epoch 78/80\n",
      "70/70 [==============================] - 1s 14ms/step - loss: 0.4941 - accuracy: 0.7509 - val_loss: 0.6753 - val_accuracy: 0.6971\n",
      "Epoch 79/80\n",
      "70/70 [==============================] - 1s 14ms/step - loss: 0.4997 - accuracy: 0.7516 - val_loss: 0.6252 - val_accuracy: 0.6966\n",
      "Epoch 80/80\n",
      "70/70 [==============================] - 1s 14ms/step - loss: 0.4937 - accuracy: 0.7564 - val_loss: 0.6124 - val_accuracy: 0.6930\n"
     ]
    }
   ],
   "source": [
    "model =  mlp_model()\n",
    "#Fitting the model\n",
    "history=model.fit(X_train2,y_train2,validation_data=(X_val,y_val),batch_size=128,epochs=80 )"
   ]
  },
  {
   "cell_type": "code",
   "execution_count": 11,
   "metadata": {
    "execution": {
     "iopub.execute_input": "2022-02-05T04:40:09.070982Z",
     "iopub.status.busy": "2022-02-05T04:40:09.070305Z",
     "iopub.status.idle": "2022-02-05T04:40:09.326289Z",
     "shell.execute_reply": "2022-02-05T04:40:09.325327Z",
     "shell.execute_reply.started": "2022-02-05T04:40:09.070918Z"
    }
   },
   "outputs": [
    {
     "name": "stdout",
     "output_type": "stream",
     "text": [
      "61/61 [==============================] - 0s 2ms/step - loss: 0.6011 - accuracy: 0.6941\n"
     ]
    },
    {
     "data": {
      "text/plain": [
       "0.6940686702728271"
      ]
     },
     "execution_count": 11,
     "metadata": {},
     "output_type": "execute_result"
    }
   ],
   "source": [
    "test_loss, test_acc = model.evaluate(X_test,y_test)\n",
    "test_acc"
   ]
  },
  {
   "cell_type": "markdown",
   "metadata": {},
   "source": [
    "### Observations:-\n",
    "- Train accuracy: ~75\n",
    "- Val accuracy : ~69\n",
    "- Test accuracy: ~69\n",
    "- Model seems to be overfitted"
   ]
  },
  {
   "cell_type": "markdown",
   "metadata": {},
   "source": [
    "## MLP with Stratified K-fold Cross-Validation Technique\n",
    "Aim: To reduce overfitting"
   ]
  },
  {
   "cell_type": "code",
   "execution_count": 14,
   "metadata": {
    "execution": {
     "iopub.execute_input": "2022-02-05T04:48:55.138475Z",
     "iopub.status.busy": "2022-02-05T04:48:55.138094Z",
     "iopub.status.idle": "2022-02-05T04:48:55.145680Z",
     "shell.execute_reply": "2022-02-05T04:48:55.144431Z",
     "shell.execute_reply.started": "2022-02-05T04:48:55.138386Z"
    }
   },
   "outputs": [
    {
     "data": {
      "text/plain": [
       "1814.8333333333333"
      ]
     },
     "execution_count": 14,
     "metadata": {},
     "output_type": "execute_result"
    }
   ],
   "source": [
    "10889/6\n",
    "\n",
    "# Train data size - 10889\n",
    "# Validation data size - 1814 which is closest to test data size of ~1900"
   ]
  },
  {
   "cell_type": "markdown",
   "metadata": {},
   "source": [
    "### 6-Fold Cross-validation:\n",
    "- Training data is splitted into 6 folds where 5 folds will be kept for training and model will be evaluated on 1 fold for each of the folds.\n",
    "\n",
    "- Aiming to reduce overfitting using this technique as whole training data will be utilized for training data.\n",
    "- Model performance will be evaluated on test data which is not utilized in training data"
   ]
  },
  {
   "cell_type": "code",
   "execution_count": 15,
   "metadata": {
    "execution": {
     "iopub.execute_input": "2022-02-05T04:48:55.889468Z",
     "iopub.status.busy": "2022-02-05T04:48:55.888532Z",
     "iopub.status.idle": "2022-02-05T04:51:41.037928Z",
     "shell.execute_reply": "2022-02-05T04:51:41.036855Z",
     "shell.execute_reply.started": "2022-02-05T04:48:55.889428Z"
    }
   },
   "outputs": [
    {
     "name": "stdout",
     "output_type": "stream",
     "text": [
      "Epoch 1/30\n",
      "71/71 [==============================] - 2s 9ms/step - loss: 0.7022 - accuracy: 0.5872\n",
      "Epoch 2/30\n",
      "71/71 [==============================] - 1s 16ms/step - loss: 0.6501 - accuracy: 0.6272\n",
      "Epoch 3/30\n",
      "71/71 [==============================] - 1s 10ms/step - loss: 0.6420 - accuracy: 0.6329\n",
      "Epoch 4/30\n",
      "71/71 [==============================] - 1s 9ms/step - loss: 0.6308 - accuracy: 0.6465\n",
      "Epoch 5/30\n",
      "71/71 [==============================] - 1s 9ms/step - loss: 0.6315 - accuracy: 0.6461\n",
      "Epoch 6/30\n",
      "71/71 [==============================] - 1s 9ms/step - loss: 0.6247 - accuracy: 0.6518\n",
      "Epoch 7/30\n",
      "71/71 [==============================] - 1s 9ms/step - loss: 0.6189 - accuracy: 0.6537\n",
      "Epoch 8/30\n",
      "71/71 [==============================] - 1s 9ms/step - loss: 0.6194 - accuracy: 0.6551\n",
      "Epoch 9/30\n",
      "71/71 [==============================] - 1s 9ms/step - loss: 0.6143 - accuracy: 0.6565\n",
      "Epoch 10/30\n",
      "71/71 [==============================] - 1s 9ms/step - loss: 0.6079 - accuracy: 0.6655\n",
      "Epoch 11/30\n",
      "71/71 [==============================] - 1s 12ms/step - loss: 0.6111 - accuracy: 0.6624\n",
      "Epoch 12/30\n",
      "71/71 [==============================] - 1s 10ms/step - loss: 0.6041 - accuracy: 0.6713\n",
      "Epoch 13/30\n",
      "71/71 [==============================] - 1s 9ms/step - loss: 0.6049 - accuracy: 0.6716\n",
      "Epoch 14/30\n",
      "71/71 [==============================] - 1s 9ms/step - loss: 0.5995 - accuracy: 0.6781\n",
      "Epoch 15/30\n",
      "71/71 [==============================] - 1s 9ms/step - loss: 0.6005 - accuracy: 0.6751\n",
      "Epoch 16/30\n",
      "71/71 [==============================] - 1s 9ms/step - loss: 0.5998 - accuracy: 0.6764\n",
      "Epoch 17/30\n",
      "71/71 [==============================] - 1s 9ms/step - loss: 0.5971 - accuracy: 0.6747\n",
      "Epoch 18/30\n",
      "71/71 [==============================] - 1s 9ms/step - loss: 0.5946 - accuracy: 0.6772\n",
      "Epoch 19/30\n",
      "71/71 [==============================] - 1s 9ms/step - loss: 0.5925 - accuracy: 0.6810\n",
      "Epoch 20/30\n",
      "71/71 [==============================] - 1s 9ms/step - loss: 0.5913 - accuracy: 0.6844\n",
      "Epoch 21/30\n",
      "71/71 [==============================] - 1s 10ms/step - loss: 0.5899 - accuracy: 0.6771\n",
      "Epoch 22/30\n",
      "71/71 [==============================] - 1s 9ms/step - loss: 0.5847 - accuracy: 0.6875\n",
      "Epoch 23/30\n",
      "71/71 [==============================] - 1s 9ms/step - loss: 0.5859 - accuracy: 0.6892\n",
      "Epoch 24/30\n",
      "71/71 [==============================] - 1s 9ms/step - loss: 0.5795 - accuracy: 0.6909\n",
      "Epoch 25/30\n",
      "71/71 [==============================] - 1s 9ms/step - loss: 0.5820 - accuracy: 0.6899\n",
      "Epoch 26/30\n",
      "71/71 [==============================] - 1s 9ms/step - loss: 0.5751 - accuracy: 0.6978\n",
      "Epoch 27/30\n",
      "71/71 [==============================] - 1s 12ms/step - loss: 0.5759 - accuracy: 0.6941\n",
      "Epoch 28/30\n",
      "71/71 [==============================] - 1s 10ms/step - loss: 0.5730 - accuracy: 0.7010\n",
      "Epoch 29/30\n",
      "71/71 [==============================] - 1s 9ms/step - loss: 0.5692 - accuracy: 0.7035\n",
      "Epoch 30/30\n",
      "71/71 [==============================] - 1s 9ms/step - loss: 0.5708 - accuracy: 0.7000\n",
      "15/15 [==============================] - 0s 3ms/step - loss: 0.6015 - accuracy: 0.6815\n",
      "Epoch 1/30\n",
      "71/71 [==============================] - 3s 9ms/step - loss: 0.6987 - accuracy: 0.5861\n",
      "Epoch 2/30\n",
      "71/71 [==============================] - 1s 10ms/step - loss: 0.6451 - accuracy: 0.6212\n",
      "Epoch 3/30\n",
      "71/71 [==============================] - 1s 9ms/step - loss: 0.6351 - accuracy: 0.6368\n",
      "Epoch 4/30\n",
      "71/71 [==============================] - 1s 9ms/step - loss: 0.6322 - accuracy: 0.6373\n",
      "Epoch 5/30\n",
      "71/71 [==============================] - 1s 9ms/step - loss: 0.6274 - accuracy: 0.6504\n",
      "Epoch 6/30\n",
      "71/71 [==============================] - 1s 9ms/step - loss: 0.6219 - accuracy: 0.6515\n",
      "Epoch 7/30\n",
      "71/71 [==============================] - 1s 9ms/step - loss: 0.6217 - accuracy: 0.6534\n",
      "Epoch 8/30\n",
      "71/71 [==============================] - 1s 9ms/step - loss: 0.6154 - accuracy: 0.6590\n",
      "Epoch 9/30\n",
      "71/71 [==============================] - 1s 9ms/step - loss: 0.6141 - accuracy: 0.6635\n",
      "Epoch 10/30\n",
      "71/71 [==============================] - 1s 13ms/step - loss: 0.6083 - accuracy: 0.6685\n",
      "Epoch 11/30\n",
      "71/71 [==============================] - 1s 9ms/step - loss: 0.6057 - accuracy: 0.6637\n",
      "Epoch 12/30\n",
      "71/71 [==============================] - 1s 9ms/step - loss: 0.6006 - accuracy: 0.6711\n",
      "Epoch 13/30\n",
      "71/71 [==============================] - 1s 9ms/step - loss: 0.6011 - accuracy: 0.6738\n",
      "Epoch 14/30\n",
      "71/71 [==============================] - 1s 9ms/step - loss: 0.6018 - accuracy: 0.6761\n",
      "Epoch 15/30\n",
      "71/71 [==============================] - 1s 9ms/step - loss: 0.5984 - accuracy: 0.6781\n",
      "Epoch 16/30\n",
      "71/71 [==============================] - 1s 9ms/step - loss: 0.5918 - accuracy: 0.6862\n",
      "Epoch 17/30\n",
      "71/71 [==============================] - 1s 11ms/step - loss: 0.5974 - accuracy: 0.6774\n",
      "Epoch 18/30\n",
      "71/71 [==============================] - 1s 13ms/step - loss: 0.5901 - accuracy: 0.6827\n",
      "Epoch 19/30\n",
      "71/71 [==============================] - 1s 10ms/step - loss: 0.5905 - accuracy: 0.6826\n",
      "Epoch 20/30\n",
      "71/71 [==============================] - 1s 9ms/step - loss: 0.5896 - accuracy: 0.6827\n",
      "Epoch 21/30\n",
      "71/71 [==============================] - 1s 9ms/step - loss: 0.5901 - accuracy: 0.6857\n",
      "Epoch 22/30\n",
      "71/71 [==============================] - 1s 9ms/step - loss: 0.5889 - accuracy: 0.6834\n",
      "Epoch 23/30\n",
      "71/71 [==============================] - 1s 9ms/step - loss: 0.5860 - accuracy: 0.6855\n",
      "Epoch 24/30\n",
      "71/71 [==============================] - 1s 9ms/step - loss: 0.5783 - accuracy: 0.6953\n",
      "Epoch 25/30\n",
      "71/71 [==============================] - 1s 11ms/step - loss: 0.5841 - accuracy: 0.6872\n",
      "Epoch 26/30\n",
      "71/71 [==============================] - 1s 11ms/step - loss: 0.5791 - accuracy: 0.6915\n",
      "Epoch 27/30\n",
      "71/71 [==============================] - 1s 9ms/step - loss: 0.5720 - accuracy: 0.7000\n",
      "Epoch 28/30\n",
      "71/71 [==============================] - 1s 9ms/step - loss: 0.5786 - accuracy: 0.6910\n",
      "Epoch 29/30\n",
      "71/71 [==============================] - 1s 9ms/step - loss: 0.5740 - accuracy: 0.6950\n",
      "Epoch 30/30\n",
      "71/71 [==============================] - 1s 9ms/step - loss: 0.5734 - accuracy: 0.6993\n",
      "15/15 [==============================] - 0s 3ms/step - loss: 0.6294 - accuracy: 0.6584\n",
      "Epoch 1/30\n",
      "71/71 [==============================] - 3s 9ms/step - loss: 0.6965 - accuracy: 0.5908\n",
      "Epoch 2/30\n",
      "71/71 [==============================] - 1s 9ms/step - loss: 0.6468 - accuracy: 0.6203\n",
      "Epoch 3/30\n",
      "71/71 [==============================] - 1s 9ms/step - loss: 0.6412 - accuracy: 0.6335\n",
      "Epoch 4/30\n",
      "71/71 [==============================] - 1s 9ms/step - loss: 0.6310 - accuracy: 0.6464\n",
      "Epoch 5/30\n",
      "71/71 [==============================] - 1s 9ms/step - loss: 0.6271 - accuracy: 0.6504\n",
      "Epoch 6/30\n",
      "71/71 [==============================] - 1s 9ms/step - loss: 0.6215 - accuracy: 0.6588\n",
      "Epoch 7/30\n",
      "71/71 [==============================] - 1s 9ms/step - loss: 0.6214 - accuracy: 0.6529\n",
      "Epoch 8/30\n",
      "71/71 [==============================] - 1s 12ms/step - loss: 0.6167 - accuracy: 0.6594\n",
      "Epoch 9/30\n",
      "71/71 [==============================] - 1s 10ms/step - loss: 0.6163 - accuracy: 0.6584\n",
      "Epoch 10/30\n",
      "71/71 [==============================] - 1s 9ms/step - loss: 0.6142 - accuracy: 0.6620\n",
      "Epoch 11/30\n",
      "71/71 [==============================] - 1s 9ms/step - loss: 0.6097 - accuracy: 0.6631\n",
      "Epoch 12/30\n",
      "71/71 [==============================] - 1s 9ms/step - loss: 0.6095 - accuracy: 0.6667\n",
      "Epoch 13/30\n",
      "71/71 [==============================] - 1s 9ms/step - loss: 0.5993 - accuracy: 0.6777\n",
      "Epoch 14/30\n",
      "71/71 [==============================] - 1s 9ms/step - loss: 0.5996 - accuracy: 0.6757\n",
      "Epoch 15/30\n",
      "71/71 [==============================] - 1s 9ms/step - loss: 0.6015 - accuracy: 0.6749\n",
      "Epoch 16/30\n",
      "71/71 [==============================] - 1s 9ms/step - loss: 0.5951 - accuracy: 0.6756\n",
      "Epoch 17/30\n",
      "71/71 [==============================] - 1s 9ms/step - loss: 0.5939 - accuracy: 0.6793\n",
      "Epoch 18/30\n",
      "71/71 [==============================] - 1s 9ms/step - loss: 0.5925 - accuracy: 0.6866\n",
      "Epoch 19/30\n",
      "71/71 [==============================] - 1s 9ms/step - loss: 0.5914 - accuracy: 0.6850\n",
      "Epoch 20/30\n",
      "71/71 [==============================] - 1s 9ms/step - loss: 0.5909 - accuracy: 0.6827\n",
      "Epoch 21/30\n",
      "71/71 [==============================] - 1s 9ms/step - loss: 0.5890 - accuracy: 0.6838\n",
      "Epoch 22/30\n",
      "71/71 [==============================] - 1s 9ms/step - loss: 0.5842 - accuracy: 0.6894\n",
      "Epoch 23/30\n",
      "71/71 [==============================] - 1s 9ms/step - loss: 0.5838 - accuracy: 0.6888\n",
      "Epoch 24/30\n",
      "71/71 [==============================] - 1s 9ms/step - loss: 0.5830 - accuracy: 0.6910\n",
      "Epoch 25/30\n",
      "71/71 [==============================] - 1s 13ms/step - loss: 0.5764 - accuracy: 0.6967\n",
      "Epoch 26/30\n",
      "71/71 [==============================] - 1s 9ms/step - loss: 0.5758 - accuracy: 0.6985\n",
      "Epoch 27/30\n",
      "71/71 [==============================] - 1s 9ms/step - loss: 0.5727 - accuracy: 0.6981\n",
      "Epoch 28/30\n",
      "71/71 [==============================] - 1s 9ms/step - loss: 0.5788 - accuracy: 0.6965\n",
      "Epoch 29/30\n",
      "71/71 [==============================] - 1s 9ms/step - loss: 0.5727 - accuracy: 0.6980\n",
      "Epoch 30/30\n",
      "71/71 [==============================] - 1s 9ms/step - loss: 0.5724 - accuracy: 0.7004\n",
      "15/15 [==============================] - 0s 3ms/step - loss: 0.6037 - accuracy: 0.6854\n",
      "Epoch 1/30\n",
      "71/71 [==============================] - 3s 9ms/step - loss: 0.6940 - accuracy: 0.5890\n",
      "Epoch 2/30\n",
      "71/71 [==============================] - 1s 9ms/step - loss: 0.6427 - accuracy: 0.6315\n",
      "Epoch 3/30\n",
      "71/71 [==============================] - 1s 9ms/step - loss: 0.6353 - accuracy: 0.6444\n",
      "Epoch 4/30\n",
      "71/71 [==============================] - 1s 9ms/step - loss: 0.6295 - accuracy: 0.6515\n",
      "Epoch 5/30\n",
      "71/71 [==============================] - 1s 9ms/step - loss: 0.6246 - accuracy: 0.6504\n",
      "Epoch 6/30\n",
      "71/71 [==============================] - 1s 9ms/step - loss: 0.6203 - accuracy: 0.6579\n",
      "Epoch 7/30\n",
      "71/71 [==============================] - 1s 13ms/step - loss: 0.6167 - accuracy: 0.6609\n",
      "Epoch 8/30\n",
      "71/71 [==============================] - 1s 10ms/step - loss: 0.6176 - accuracy: 0.6564\n",
      "Epoch 9/30\n",
      "71/71 [==============================] - 1s 9ms/step - loss: 0.6107 - accuracy: 0.6645\n",
      "Epoch 10/30\n",
      "71/71 [==============================] - 1s 9ms/step - loss: 0.6071 - accuracy: 0.6664\n",
      "Epoch 11/30\n",
      "71/71 [==============================] - 1s 9ms/step - loss: 0.6092 - accuracy: 0.6720\n",
      "Epoch 12/30\n",
      "71/71 [==============================] - 1s 9ms/step - loss: 0.6009 - accuracy: 0.6789\n",
      "Epoch 13/30\n",
      "71/71 [==============================] - 1s 9ms/step - loss: 0.6025 - accuracy: 0.6754\n",
      "Epoch 14/30\n",
      "71/71 [==============================] - 1s 9ms/step - loss: 0.5990 - accuracy: 0.6740\n",
      "Epoch 15/30\n",
      "71/71 [==============================] - 1s 9ms/step - loss: 0.6028 - accuracy: 0.6736\n",
      "Epoch 16/30\n",
      "71/71 [==============================] - 1s 9ms/step - loss: 0.5884 - accuracy: 0.6862\n",
      "Epoch 17/30\n",
      "71/71 [==============================] - 1s 9ms/step - loss: 0.5915 - accuracy: 0.6859\n",
      "Epoch 18/30\n",
      "71/71 [==============================] - 1s 9ms/step - loss: 0.5939 - accuracy: 0.6847\n",
      "Epoch 19/30\n",
      "71/71 [==============================] - 1s 9ms/step - loss: 0.5853 - accuracy: 0.6914\n",
      "Epoch 20/30\n",
      "71/71 [==============================] - 1s 9ms/step - loss: 0.5904 - accuracy: 0.6862\n",
      "Epoch 21/30\n",
      "71/71 [==============================] - 1s 9ms/step - loss: 0.5834 - accuracy: 0.6889\n",
      "Epoch 22/30\n",
      "71/71 [==============================] - 1s 9ms/step - loss: 0.5841 - accuracy: 0.6955\n",
      "Epoch 23/30\n",
      "71/71 [==============================] - 1s 11ms/step - loss: 0.5809 - accuracy: 0.6902\n",
      "Epoch 24/30\n",
      "71/71 [==============================] - 1s 11ms/step - loss: 0.5783 - accuracy: 0.6955\n",
      "Epoch 25/30\n",
      "71/71 [==============================] - 1s 9ms/step - loss: 0.5755 - accuracy: 0.6981\n",
      "Epoch 26/30\n",
      "71/71 [==============================] - 1s 9ms/step - loss: 0.5762 - accuracy: 0.6942\n",
      "Epoch 27/30\n",
      "71/71 [==============================] - 1s 9ms/step - loss: 0.5733 - accuracy: 0.7016\n",
      "Epoch 28/30\n",
      "71/71 [==============================] - 1s 9ms/step - loss: 0.5721 - accuracy: 0.7013\n",
      "Epoch 29/30\n",
      "71/71 [==============================] - 1s 9ms/step - loss: 0.5615 - accuracy: 0.7076\n",
      "Epoch 30/30\n",
      "71/71 [==============================] - 1s 9ms/step - loss: 0.5643 - accuracy: 0.7073\n",
      "15/15 [==============================] - 0s 3ms/step - loss: 0.6185 - accuracy: 0.6771\n",
      "Epoch 1/30\n",
      "71/71 [==============================] - 3s 9ms/step - loss: 0.6887 - accuracy: 0.5862\n",
      "Epoch 2/30\n",
      "71/71 [==============================] - 1s 9ms/step - loss: 0.6534 - accuracy: 0.6207\n",
      "Epoch 3/30\n",
      "71/71 [==============================] - 1s 9ms/step - loss: 0.6371 - accuracy: 0.6424\n",
      "Epoch 4/30\n",
      "71/71 [==============================] - 1s 9ms/step - loss: 0.6352 - accuracy: 0.6421\n",
      "Epoch 5/30\n",
      "71/71 [==============================] - 1s 13ms/step - loss: 0.6309 - accuracy: 0.6449\n",
      "Epoch 6/30\n",
      "71/71 [==============================] - 1s 9ms/step - loss: 0.6255 - accuracy: 0.6489\n",
      "Epoch 7/30\n",
      "71/71 [==============================] - 1s 9ms/step - loss: 0.6231 - accuracy: 0.6544\n",
      "Epoch 8/30\n",
      "71/71 [==============================] - 1s 9ms/step - loss: 0.6204 - accuracy: 0.6574\n",
      "Epoch 9/30\n",
      "71/71 [==============================] - 1s 9ms/step - loss: 0.6171 - accuracy: 0.6524\n",
      "Epoch 10/30\n",
      "71/71 [==============================] - 1s 9ms/step - loss: 0.6136 - accuracy: 0.6635\n",
      "Epoch 11/30\n",
      "71/71 [==============================] - 1s 9ms/step - loss: 0.6118 - accuracy: 0.6670\n",
      "Epoch 12/30\n",
      "71/71 [==============================] - 1s 9ms/step - loss: 0.6082 - accuracy: 0.6649\n",
      "Epoch 13/30\n",
      "71/71 [==============================] - 1s 9ms/step - loss: 0.6072 - accuracy: 0.6677\n",
      "Epoch 14/30\n",
      "71/71 [==============================] - 1s 12ms/step - loss: 0.6053 - accuracy: 0.6707\n",
      "Epoch 15/30\n",
      "71/71 [==============================] - 1s 13ms/step - loss: 0.6002 - accuracy: 0.6759\n",
      "Epoch 16/30\n",
      "71/71 [==============================] - 1s 9ms/step - loss: 0.6012 - accuracy: 0.6762\n",
      "Epoch 17/30\n",
      "71/71 [==============================] - 1s 10ms/step - loss: 0.6009 - accuracy: 0.6741\n",
      "Epoch 18/30\n",
      "71/71 [==============================] - 1s 9ms/step - loss: 0.5985 - accuracy: 0.6771\n",
      "Epoch 19/30\n",
      "71/71 [==============================] - 1s 9ms/step - loss: 0.5933 - accuracy: 0.6807\n",
      "Epoch 20/30\n",
      "71/71 [==============================] - 1s 10ms/step - loss: 0.5921 - accuracy: 0.6807\n",
      "Epoch 21/30\n",
      "71/71 [==============================] - 1s 12ms/step - loss: 0.5911 - accuracy: 0.6821\n",
      "Epoch 22/30\n",
      "71/71 [==============================] - 1s 9ms/step - loss: 0.5900 - accuracy: 0.6805\n",
      "Epoch 23/30\n",
      "71/71 [==============================] - 1s 9ms/step - loss: 0.5863 - accuracy: 0.6912\n",
      "Epoch 24/30\n",
      "71/71 [==============================] - 1s 9ms/step - loss: 0.5854 - accuracy: 0.6882\n",
      "Epoch 25/30\n",
      "71/71 [==============================] - 1s 9ms/step - loss: 0.5776 - accuracy: 0.6953\n",
      "Epoch 26/30\n",
      "71/71 [==============================] - 1s 9ms/step - loss: 0.5787 - accuracy: 0.6969\n",
      "Epoch 27/30\n",
      "71/71 [==============================] - 1s 9ms/step - loss: 0.5762 - accuracy: 0.6930\n",
      "Epoch 28/30\n",
      "71/71 [==============================] - 1s 9ms/step - loss: 0.5741 - accuracy: 0.6934\n",
      "Epoch 29/30\n",
      "71/71 [==============================] - 1s 9ms/step - loss: 0.5736 - accuracy: 0.6983\n",
      "Epoch 30/30\n",
      "71/71 [==============================] - 1s 9ms/step - loss: 0.5694 - accuracy: 0.7010\n",
      "15/15 [==============================] - 0s 3ms/step - loss: 0.5738 - accuracy: 0.7025\n",
      "Epoch 1/30\n",
      "71/71 [==============================] - 2s 9ms/step - loss: 0.7096 - accuracy: 0.5849\n",
      "Epoch 2/30\n",
      "71/71 [==============================] - 1s 9ms/step - loss: 0.6516 - accuracy: 0.6233\n",
      "Epoch 3/30\n",
      "71/71 [==============================] - 1s 11ms/step - loss: 0.6416 - accuracy: 0.6396\n",
      "Epoch 4/30\n",
      "71/71 [==============================] - 1s 11ms/step - loss: 0.6372 - accuracy: 0.6471\n",
      "Epoch 5/30\n",
      "71/71 [==============================] - 1s 9ms/step - loss: 0.6306 - accuracy: 0.6467\n",
      "Epoch 6/30\n",
      "71/71 [==============================] - 1s 9ms/step - loss: 0.6272 - accuracy: 0.6525\n",
      "Epoch 7/30\n",
      "71/71 [==============================] - 1s 9ms/step - loss: 0.6194 - accuracy: 0.6586\n",
      "Epoch 8/30\n",
      "71/71 [==============================] - 1s 9ms/step - loss: 0.6195 - accuracy: 0.6621\n",
      "Epoch 9/30\n",
      "71/71 [==============================] - 1s 9ms/step - loss: 0.6153 - accuracy: 0.6629\n",
      "Epoch 10/30\n",
      "71/71 [==============================] - 1s 9ms/step - loss: 0.6137 - accuracy: 0.6624\n",
      "Epoch 11/30\n",
      "71/71 [==============================] - 1s 9ms/step - loss: 0.6099 - accuracy: 0.6661\n",
      "Epoch 12/30\n",
      "71/71 [==============================] - 1s 9ms/step - loss: 0.6066 - accuracy: 0.6704\n",
      "Epoch 13/30\n",
      "71/71 [==============================] - 1s 9ms/step - loss: 0.6040 - accuracy: 0.6712\n",
      "Epoch 14/30\n",
      "71/71 [==============================] - 1s 9ms/step - loss: 0.6026 - accuracy: 0.6752\n",
      "Epoch 15/30\n",
      "71/71 [==============================] - 1s 9ms/step - loss: 0.5983 - accuracy: 0.6748\n",
      "Epoch 16/30\n",
      "71/71 [==============================] - 1s 9ms/step - loss: 0.5966 - accuracy: 0.6776\n",
      "Epoch 17/30\n",
      "71/71 [==============================] - 1s 9ms/step - loss: 0.5965 - accuracy: 0.6799\n",
      "Epoch 18/30\n",
      "71/71 [==============================] - 1s 9ms/step - loss: 0.5859 - accuracy: 0.6880\n",
      "Epoch 19/30\n",
      "71/71 [==============================] - 1s 9ms/step - loss: 0.5933 - accuracy: 0.6822\n",
      "Epoch 20/30\n",
      "71/71 [==============================] - 1s 13ms/step - loss: 0.5900 - accuracy: 0.6854\n",
      "Epoch 21/30\n",
      "71/71 [==============================] - 1s 9ms/step - loss: 0.5864 - accuracy: 0.6905\n",
      "Epoch 22/30\n",
      "71/71 [==============================] - 1s 9ms/step - loss: 0.5875 - accuracy: 0.6852\n",
      "Epoch 23/30\n",
      "71/71 [==============================] - 1s 9ms/step - loss: 0.5816 - accuracy: 0.6894\n",
      "Epoch 24/30\n",
      "71/71 [==============================] - 1s 9ms/step - loss: 0.5819 - accuracy: 0.6962\n",
      "Epoch 25/30\n",
      "71/71 [==============================] - 1s 9ms/step - loss: 0.5827 - accuracy: 0.6877\n",
      "Epoch 26/30\n",
      "71/71 [==============================] - 1s 9ms/step - loss: 0.5769 - accuracy: 0.6917\n",
      "Epoch 27/30\n",
      "71/71 [==============================] - 1s 9ms/step - loss: 0.5814 - accuracy: 0.6929\n",
      "Epoch 28/30\n",
      "71/71 [==============================] - 1s 13ms/step - loss: 0.5723 - accuracy: 0.6980\n",
      "Epoch 29/30\n",
      "71/71 [==============================] - 1s 13ms/step - loss: 0.5717 - accuracy: 0.6922\n",
      "Epoch 30/30\n",
      "71/71 [==============================] - 1s 9ms/step - loss: 0.5740 - accuracy: 0.6997\n",
      "15/15 [==============================] - 0s 3ms/step - loss: 0.6006 - accuracy: 0.6786\n",
      "Epoch 1/30\n",
      "86/86 [==============================] - 3s 9ms/step - loss: 0.6773 - accuracy: 0.6047\n",
      "Epoch 2/30\n",
      "86/86 [==============================] - 1s 12ms/step - loss: 0.6404 - accuracy: 0.6379\n",
      "Epoch 3/30\n",
      "86/86 [==============================] - 1s 9ms/step - loss: 0.6385 - accuracy: 0.6371\n",
      "Epoch 4/30\n",
      "86/86 [==============================] - 1s 9ms/step - loss: 0.6339 - accuracy: 0.6421\n",
      "Epoch 5/30\n",
      "86/86 [==============================] - 1s 9ms/step - loss: 0.6247 - accuracy: 0.6586\n",
      "Epoch 6/30\n",
      "86/86 [==============================] - 1s 9ms/step - loss: 0.6225 - accuracy: 0.6596\n",
      "Epoch 7/30\n",
      "86/86 [==============================] - 1s 9ms/step - loss: 0.6238 - accuracy: 0.6547\n",
      "Epoch 8/30\n",
      "86/86 [==============================] - 1s 9ms/step - loss: 0.6190 - accuracy: 0.6561\n",
      "Epoch 9/30\n",
      "86/86 [==============================] - 1s 9ms/step - loss: 0.6144 - accuracy: 0.6631\n",
      "Epoch 10/30\n",
      "86/86 [==============================] - 1s 9ms/step - loss: 0.6149 - accuracy: 0.6630\n",
      "Epoch 11/30\n",
      "86/86 [==============================] - 1s 9ms/step - loss: 0.6173 - accuracy: 0.6603\n",
      "Epoch 12/30\n",
      "86/86 [==============================] - 1s 9ms/step - loss: 0.6068 - accuracy: 0.6697\n",
      "Epoch 13/30\n",
      "86/86 [==============================] - 1s 9ms/step - loss: 0.6034 - accuracy: 0.6727\n",
      "Epoch 14/30\n",
      "86/86 [==============================] - 1s 9ms/step - loss: 0.6008 - accuracy: 0.6739\n",
      "Epoch 15/30\n",
      "86/86 [==============================] - 1s 12ms/step - loss: 0.6095 - accuracy: 0.6669\n",
      "Epoch 16/30\n",
      "86/86 [==============================] - 1s 10ms/step - loss: 0.5992 - accuracy: 0.6732\n",
      "Epoch 17/30\n",
      "86/86 [==============================] - 1s 9ms/step - loss: 0.5958 - accuracy: 0.6786\n",
      "Epoch 18/30\n",
      "86/86 [==============================] - 1s 9ms/step - loss: 0.5953 - accuracy: 0.6781\n",
      "Epoch 19/30\n",
      "86/86 [==============================] - 1s 9ms/step - loss: 0.5974 - accuracy: 0.6771\n",
      "Epoch 20/30\n",
      "86/86 [==============================] - 1s 9ms/step - loss: 0.5881 - accuracy: 0.6833\n",
      "Epoch 21/30\n",
      "86/86 [==============================] - 1s 9ms/step - loss: 0.5891 - accuracy: 0.6874\n",
      "Epoch 22/30\n",
      "86/86 [==============================] - 1s 9ms/step - loss: 0.5890 - accuracy: 0.6835\n",
      "Epoch 23/30\n",
      "86/86 [==============================] - 1s 9ms/step - loss: 0.5850 - accuracy: 0.6890\n",
      "Epoch 24/30\n",
      "86/86 [==============================] - 1s 9ms/step - loss: 0.5882 - accuracy: 0.6852\n",
      "Epoch 25/30\n",
      "86/86 [==============================] - 1s 9ms/step - loss: 0.5892 - accuracy: 0.6810\n",
      "Epoch 26/30\n",
      "86/86 [==============================] - 1s 9ms/step - loss: 0.5806 - accuracy: 0.6952\n",
      "Epoch 27/30\n",
      "86/86 [==============================] - 1s 9ms/step - loss: 0.5832 - accuracy: 0.6856\n",
      "Epoch 28/30\n",
      "86/86 [==============================] - 1s 9ms/step - loss: 0.5805 - accuracy: 0.6948\n",
      "Epoch 29/30\n",
      "86/86 [==============================] - 1s 13ms/step - loss: 0.5796 - accuracy: 0.6923\n",
      "Epoch 30/30\n",
      "86/86 [==============================] - 1s 9ms/step - loss: 0.5908 - accuracy: 0.6839\n"
     ]
    }
   ],
   "source": [
    "from sklearn.model_selection import cross_validate\n",
    "from keras.wrappers.scikit_learn import KerasClassifier\n",
    "from sklearn.model_selection import StratifiedKFold\n",
    "\n",
    "model2 = KerasClassifier(build_fn= mlp_model, epochs=30, batch_size=128)\n",
    "\n",
    "kfold = StratifiedKFold(n_splits=6)\n",
    "scores = cross_val_score(model2, X_train, y_train, cv=kfold)\n",
    "\n",
    "history  = model2.fit(X_train,y_train)"
   ]
  },
  {
   "cell_type": "code",
   "execution_count": 17,
   "metadata": {
    "execution": {
     "iopub.execute_input": "2022-02-05T04:52:12.030352Z",
     "iopub.status.busy": "2022-02-05T04:52:12.030008Z",
     "iopub.status.idle": "2022-02-05T04:52:12.041111Z",
     "shell.execute_reply": "2022-02-05T04:52:12.040064Z",
     "shell.execute_reply.started": "2022-02-05T04:52:12.030321Z"
    }
   },
   "outputs": [
    {
     "name": "stdout",
     "output_type": "stream",
     "text": [
      "validation accuracies:  [0.68154269 0.6584022  0.68539947 0.67713499 0.70247936 0.6786108 ]\n"
     ]
    },
    {
     "data": {
      "text/plain": [
       "0.6805949211120605"
      ]
     },
     "execution_count": 17,
     "metadata": {},
     "output_type": "execute_result"
    }
   ],
   "source": [
    "print(\"validation accuracies: \", scores)\n",
    "scores.mean()"
   ]
  },
  {
   "cell_type": "markdown",
   "metadata": {},
   "source": [
    "### Model Evaluation"
   ]
  },
  {
   "cell_type": "code",
   "execution_count": 18,
   "metadata": {
    "execution": {
     "iopub.execute_input": "2022-02-05T04:52:15.180319Z",
     "iopub.status.busy": "2022-02-05T04:52:15.179449Z",
     "iopub.status.idle": "2022-02-05T04:52:15.188164Z",
     "shell.execute_reply": "2022-02-05T04:52:15.186604Z",
     "shell.execute_reply.started": "2022-02-05T04:52:15.180272Z"
    }
   },
   "outputs": [],
   "source": [
    "from sklearn.metrics import confusion_matrix\n",
    "from sklearn.metrics import accuracy_score\n",
    "\n",
    "def model_evaluation(data,true_label, model):\n",
    "    y_pred = model.predict(data)\n",
    "    y_pred = np.array(y_pred >= 0.5, dtype = np.int)\n",
    "    print(confusion_matrix(true_label, y_pred))\n",
    "    print(accuracy_score(true_label, y_pred))\n",
    "    "
   ]
  },
  {
   "cell_type": "code",
   "execution_count": 19,
   "metadata": {
    "execution": {
     "iopub.execute_input": "2022-02-05T04:52:15.477771Z",
     "iopub.status.busy": "2022-02-05T04:52:15.477285Z",
     "iopub.status.idle": "2022-02-05T04:52:16.571416Z",
     "shell.execute_reply": "2022-02-05T04:52:16.570259Z",
     "shell.execute_reply.started": "2022-02-05T04:52:15.477732Z"
    }
   },
   "outputs": [
    {
     "name": "stderr",
     "output_type": "stream",
     "text": [
      "/opt/conda/lib/python3.7/site-packages/ipykernel_launcher.py:6: DeprecationWarning: `np.int` is a deprecated alias for the builtin `int`. To silence this warning, use `int` by itself. Doing this will not modify any behavior and is safe. When replacing `np.int`, you may wish to use e.g. `np.int64` or `np.int32` to specify the precision. If you wish to review your current use, check the release note link for additional information.\n",
      "Deprecated in NumPy 1.20; for more details and guidance: https://numpy.org/devdocs/release/1.20.0-notes.html#deprecations\n",
      "  \n"
     ]
    },
    {
     "name": "stdout",
     "output_type": "stream",
     "text": [
      "[[4090 1217]\n",
      " [1978 3604]]\n",
      "0.7065846266874828\n",
      "[[701 236]\n",
      " [369 616]]\n",
      "0.6852237252861603\n"
     ]
    },
    {
     "name": "stderr",
     "output_type": "stream",
     "text": [
      "/opt/conda/lib/python3.7/site-packages/ipykernel_launcher.py:6: DeprecationWarning: `np.int` is a deprecated alias for the builtin `int`. To silence this warning, use `int` by itself. Doing this will not modify any behavior and is safe. When replacing `np.int`, you may wish to use e.g. `np.int64` or `np.int32` to specify the precision. If you wish to review your current use, check the release note link for additional information.\n",
      "Deprecated in NumPy 1.20; for more details and guidance: https://numpy.org/devdocs/release/1.20.0-notes.html#deprecations\n",
      "  \n"
     ]
    }
   ],
   "source": [
    "model_evaluation(X_train,y_train, model2)\n",
    "model_evaluation(X_test,y_test,model2)"
   ]
  },
  {
   "cell_type": "markdown",
   "metadata": {},
   "source": [
    "### Observations:-\n",
    "- Train accuracy of ~70% achieved.\n",
    "- Test accuracy of ~68% achieved.\n",
    "- Kfold cross-validation yielded pretty generalized model as difference between train and test accuracy is very low.\n"
   ]
  },
  {
   "cell_type": "markdown",
   "metadata": {},
   "source": [
    "## Model 2: LSTM\n",
    "\n",
    "- Data set contains data of 10 students watching 10 videos.\n",
    "- Here data of each student-video is sampled at 0.5s, so on an avg we have 120 rows.\n",
    "- Idea: We can consider data of 1 video as whole timeseries. LSTM model works well when there is time axis involded in the data."
   ]
  },
  {
   "cell_type": "markdown",
   "metadata": {},
   "source": [
    "### LSTM Input preparation\n",
    "\n",
    "- For LSTM input we need to fix timesteps. \n",
    "- Video which will be having max number of rows will be considered as timesteps for lstm model."
   ]
  },
  {
   "cell_type": "code",
   "execution_count": 20,
   "metadata": {
    "execution": {
     "iopub.execute_input": "2022-02-05T04:52:36.081406Z",
     "iopub.status.busy": "2022-02-05T04:52:36.081035Z",
     "iopub.status.idle": "2022-02-05T04:52:36.096311Z",
     "shell.execute_reply": "2022-02-05T04:52:36.095266Z",
     "shell.execute_reply.started": "2022-02-05T04:52:36.081369Z"
    }
   },
   "outputs": [
    {
     "data": {
      "text/plain": [
       "144"
      ]
     },
     "execution_count": 20,
     "metadata": {},
     "output_type": "execute_result"
    }
   ],
   "source": [
    "df.groupby(['SubjectID','VideoID']).size().max()"
   ]
  },
  {
   "cell_type": "markdown",
   "metadata": {},
   "source": [
    "### Observations\n",
    "- For student - video combination we have max of 144 rows data which is equivalent to 72s.\n",
    "- So max length for lstm input will be 144.\n",
    "- Those videos who do not have 144 rows will be padded."
   ]
  },
  {
   "cell_type": "code",
   "execution_count": 21,
   "metadata": {
    "execution": {
     "iopub.execute_input": "2022-02-05T04:52:36.727266Z",
     "iopub.status.busy": "2022-02-05T04:52:36.726935Z",
     "iopub.status.idle": "2022-02-05T04:52:36.736811Z",
     "shell.execute_reply": "2022-02-05T04:52:36.735365Z",
     "shell.execute_reply.started": "2022-02-05T04:52:36.727228Z"
    }
   },
   "outputs": [],
   "source": [
    "def padding(grp):\n",
    "    '''\n",
    "    Input: Get each grp - student-video data\n",
    "    Drop unnecessary columns: SubjectID', 'VideoID','predefinedlabel', 'user-definedlabeln\n",
    "    Add padding rows to those grp whose max_length < 144.\n",
    "    Output: modified grp (type numpy array)\n",
    "    '''\n",
    "    grp = grp.drop(['SubjectID', 'VideoID','predefinedlabel', 'user-definedlabeln'], axis=1)\n",
    "    max_length = 144\n",
    "    grp_length = grp.shape[0] # number of rows for this student-video data\n",
    "    padding_list = [0]* grp.shape[1] # [0,0,0,0,0,0,0,0,0,0,0,0,0,0,0,0,0]\n",
    "    num_padding_rows = max_length - grp_length \n",
    "    #print(num_padding_rows, grp_length)\n",
    "    padding_array = pd.DataFrame([padding_list]*num_padding_rows, columns=grp.columns)\n",
    "    #print(padding_array.shape)\n",
    "    grp = pd.concat([grp,padding_array], axis=0, ignore_index=True)\n",
    "\n",
    "    \n",
    "    return grp.values# return numpy array\n",
    "    "
   ]
  },
  {
   "cell_type": "code",
   "execution_count": 23,
   "metadata": {
    "execution": {
     "iopub.execute_input": "2022-02-05T04:52:37.772586Z",
     "iopub.status.busy": "2022-02-05T04:52:37.771565Z",
     "iopub.status.idle": "2022-02-05T04:52:38.287840Z",
     "shell.execute_reply": "2022-02-05T04:52:38.286695Z",
     "shell.execute_reply.started": "2022-02-05T04:52:37.772549Z"
    }
   },
   "outputs": [
    {
     "data": {
      "text/plain": [
       "SubjectID  VideoID\n",
       "0.0        0.0        [[56.0, 43.0, 278.0, 301963.0, 90612.0, 33735....\n",
       "           1.0        [[47.0, 23.0, -58.0, 587813.0, 276755.0, 47356...\n",
       "           2.0        [[44.0, 69.0, -1.0, 118962.0, 35777.0, 3854.0,...\n",
       "           3.0        [[20.0, 56.0, 9.0, 399799.0, 14845.0, 12363.0,...\n",
       "           4.0        [[40.0, 54.0, -151.0, 537373.0, 92910.0, 48431...\n",
       "                                            ...                        \n",
       "9.0        5.0        [[0.0, 0.0, 90.0, 281282.0, 90754.0, 13144.0, ...\n",
       "           6.0        [[16.0, 67.0, -54.0, 1019053.0, 48412.0, 39998...\n",
       "           7.0        [[23.0, 61.0, 307.0, 325528.0, 48218.0, 26334....\n",
       "           8.0        [[64.0, 74.0, 134.0, 1715933.0, 414358.0, 2668...\n",
       "           9.0        [[51.0, 38.0, -109.0, 715551.0, 29209.0, 5463....\n",
       "Length: 100, dtype: object"
      ]
     },
     "execution_count": 23,
     "metadata": {},
     "output_type": "execute_result"
    }
   ],
   "source": [
    "df.groupby(['SubjectID','VideoID']).apply(padding)"
   ]
  },
  {
   "cell_type": "markdown",
   "metadata": {},
   "source": [
    "### Applying Padding"
   ]
  },
  {
   "cell_type": "code",
   "execution_count": 24,
   "metadata": {
    "execution": {
     "iopub.execute_input": "2022-02-05T04:52:38.968108Z",
     "iopub.status.busy": "2022-02-05T04:52:38.967819Z",
     "iopub.status.idle": "2022-02-05T04:52:39.252772Z",
     "shell.execute_reply": "2022-02-05T04:52:39.251552Z",
     "shell.execute_reply.started": "2022-02-05T04:52:38.968078Z"
    }
   },
   "outputs": [
    {
     "data": {
      "text/plain": [
       "((100, 144, 17), (100,))"
      ]
     },
     "execution_count": 24,
     "metadata": {},
     "output_type": "execute_result"
    }
   ],
   "source": [
    "data = np.array(df.groupby(['SubjectID','VideoID']).apply(padding).values.tolist())\n",
    "y = df.groupby(['SubjectID','VideoID'])['user-definedlabeln'].first().values\n",
    "\n",
    "data.shape, y.shape"
   ]
  },
  {
   "cell_type": "markdown",
   "metadata": {},
   "source": [
    "### Observation:-\n",
    "- Dataset of 100 rows, 144 timesteps and 17 features is created."
   ]
  },
  {
   "cell_type": "markdown",
   "metadata": {},
   "source": [
    "### Train-Test Split\n",
    "\n",
    "- 90-10% train-test split is selected.\n",
    "- We will consider test split as validation split only and evaluate model on same as size of dataset is already very low."
   ]
  },
  {
   "cell_type": "code",
   "execution_count": 25,
   "metadata": {
    "execution": {
     "iopub.execute_input": "2022-02-05T04:52:40.236034Z",
     "iopub.status.busy": "2022-02-05T04:52:40.235736Z",
     "iopub.status.idle": "2022-02-05T04:52:40.243429Z",
     "shell.execute_reply": "2022-02-05T04:52:40.241840Z",
     "shell.execute_reply.started": "2022-02-05T04:52:40.236002Z"
    }
   },
   "outputs": [],
   "source": [
    "index = pd.Series(range(0,100)) # 0-100 index range\n",
    "test_index = index.sample(frac=0.1) # Sample randomly 10% of index as test index\n",
    "train_index = list(set(list(range(0,100))) - set(test_index.values))"
   ]
  },
  {
   "cell_type": "markdown",
   "metadata": {},
   "source": [
    "### Creating masking arrays\n",
    "- To let lstm model know which are original rows and which one are padded."
   ]
  },
  {
   "cell_type": "code",
   "execution_count": 26,
   "metadata": {
    "execution": {
     "iopub.execute_input": "2022-02-05T04:52:43.955112Z",
     "iopub.status.busy": "2022-02-05T04:52:43.954806Z",
     "iopub.status.idle": "2022-02-05T04:52:43.967658Z",
     "shell.execute_reply": "2022-02-05T04:52:43.966675Z",
     "shell.execute_reply.started": "2022-02-05T04:52:43.955082Z"
    }
   },
   "outputs": [],
   "source": [
    "# To create mask array\n",
    "original_num_rows = df.groupby(['SubjectID','VideoID']).size().values\n",
    "\n",
    "mask_array = []\n",
    "max_length = 144\n",
    "for grp_rows in original_num_rows: \n",
    "    mask_array.append(np.array([1]*grp_rows + [0] * (max_length-grp_rows), dtype=bool))\n",
    "    "
   ]
  },
  {
   "cell_type": "code",
   "execution_count": 27,
   "metadata": {
    "execution": {
     "iopub.execute_input": "2022-02-05T04:52:45.077549Z",
     "iopub.status.busy": "2022-02-05T04:52:45.077105Z",
     "iopub.status.idle": "2022-02-05T04:52:45.083810Z",
     "shell.execute_reply": "2022-02-05T04:52:45.082372Z",
     "shell.execute_reply.started": "2022-02-05T04:52:45.077513Z"
    }
   },
   "outputs": [],
   "source": [
    "np.array(mask_array).shape\n",
    "mask_array = np.array(mask_array)"
   ]
  },
  {
   "cell_type": "code",
   "execution_count": 28,
   "metadata": {
    "execution": {
     "iopub.execute_input": "2022-02-05T04:52:46.358745Z",
     "iopub.status.busy": "2022-02-05T04:52:46.358352Z",
     "iopub.status.idle": "2022-02-05T04:52:46.368480Z",
     "shell.execute_reply": "2022-02-05T04:52:46.367162Z",
     "shell.execute_reply.started": "2022-02-05T04:52:46.358697Z"
    }
   },
   "outputs": [],
   "source": [
    "X_train = data[train_index,:,:]\n",
    "mask_train = mask_array[train_index,:]\n",
    "y_train = y[train_index]\n",
    "\n",
    "X_test = data[test_index,:,:]\n",
    "mask_test = mask_array[test_index,:]\n",
    "y_test = y[test_index]"
   ]
  },
  {
   "cell_type": "code",
   "execution_count": 29,
   "metadata": {
    "execution": {
     "iopub.execute_input": "2022-02-05T04:52:47.491544Z",
     "iopub.status.busy": "2022-02-05T04:52:47.490924Z",
     "iopub.status.idle": "2022-02-05T04:52:47.499288Z",
     "shell.execute_reply": "2022-02-05T04:52:47.498200Z",
     "shell.execute_reply.started": "2022-02-05T04:52:47.491509Z"
    }
   },
   "outputs": [
    {
     "data": {
      "text/plain": [
       "((90, 144, 17), (90, 144), (90,), (10, 144, 17), (10, 144), (10,))"
      ]
     },
     "execution_count": 29,
     "metadata": {},
     "output_type": "execute_result"
    }
   ],
   "source": [
    "X_train.shape,mask_train.shape,y_train.shape, X_test.shape, mask_test.shape, y_test.shape"
   ]
  },
  {
   "cell_type": "code",
   "execution_count": 30,
   "metadata": {
    "execution": {
     "iopub.execute_input": "2022-02-05T04:52:48.631018Z",
     "iopub.status.busy": "2022-02-05T04:52:48.630734Z",
     "iopub.status.idle": "2022-02-05T04:52:48.650306Z",
     "shell.execute_reply": "2022-02-05T04:52:48.648902Z",
     "shell.execute_reply.started": "2022-02-05T04:52:48.630986Z"
    }
   },
   "outputs": [],
   "source": [
    "X_train = np.asarray(X_train).astype('float32')\n",
    "X_test = np.asarray(X_test).astype('float32')\n",
    "\n",
    "mask_train = np.asarray(mask_train).astype('float32')\n",
    "mask_test = np.asarray(mask_test).astype('float32')\n",
    "\n",
    "y_train = np.asarray(y_train).astype('float32')\n",
    "y_test = np.asarray(y_test).astype('float32')"
   ]
  },
  {
   "cell_type": "markdown",
   "metadata": {},
   "source": [
    "### LSTM Model Architecture\n",
    "\n",
    "- Since we have very less data it is highly prone to overfitting.\n",
    "- Complex model can just add to overfitting.\n",
    "- After a lot of experimentation, parameters for the model is fixed. Below combination works reasonably well.\n",
    "    - simple model with 10 lstm units\n",
    "    - dropout of 0.4\n",
    "    - 128 dense units\n",
    "    - adam with 0.00001 lr"
   ]
  },
  {
   "cell_type": "code",
   "execution_count": 39,
   "metadata": {
    "execution": {
     "iopub.execute_input": "2022-02-05T04:56:09.788867Z",
     "iopub.status.busy": "2022-02-05T04:56:09.788500Z",
     "iopub.status.idle": "2022-02-05T04:56:09.798511Z",
     "shell.execute_reply": "2022-02-05T04:56:09.797129Z",
     "shell.execute_reply.started": "2022-02-05T04:56:09.788834Z"
    }
   },
   "outputs": [],
   "source": [
    "seq_len = 144\n",
    "def build_classifier():\n",
    "\n",
    "    tf.keras.backend.clear_session() # clear up memory / clear up any previous loaded graphs\n",
    "    \n",
    "    # Input layer\n",
    "    # 1.Original data\n",
    "    # 2.MAsk array\n",
    "    inputs = tf.keras.Input(shape=(seq_len,17))\n",
    "    mask_input = Input(shape=(seq_len,), name='masked_input1', dtype='bool')\n",
    "    \n",
    "    # Lstm layer\n",
    "    lstm_1= LSTM(10, return_sequences = True)(inputs, mask=mask_input)\n",
    "    # dropout added to add regularization\n",
    "    drop = Dropout(0.4)(lstm_1)\n",
    "       \n",
    "    # Flatten layer\n",
    "    flat = Flatten()(drop)\n",
    "\n",
    "    # Dense layer \n",
    "    Dense_2 = Dense(128, activation = 'relu')(flat)\n",
    "    # As our output is binary sigmoid with 1 unit is selected\n",
    "    outputs = Dense(1, activation='sigmoid')(Dense_2)\n",
    "\n",
    "    # Create model\n",
    "    model = tf.keras.Model([inputs,mask_input], outputs)\n",
    "    # adam with small lerning rate as batch_size selected is also small and it requires small lr\n",
    "    opt = keras.optimizers.Adam(learning_rate=0.00001)\n",
    " \n",
    "    # Model compilation\n",
    "    model.compile(optimizer=opt,loss=['binary_crossentropy'],metrics=['accuracy'])\n",
    "    \n",
    "    return model\n",
    "   \n"
   ]
  },
  {
   "cell_type": "markdown",
   "metadata": {},
   "source": [
    "### Model Training"
   ]
  },
  {
   "cell_type": "code",
   "execution_count": 40,
   "metadata": {
    "execution": {
     "iopub.execute_input": "2022-02-05T04:56:10.575593Z",
     "iopub.status.busy": "2022-02-05T04:56:10.574635Z",
     "iopub.status.idle": "2022-02-05T04:56:32.489156Z",
     "shell.execute_reply": "2022-02-05T04:56:32.488164Z",
     "shell.execute_reply.started": "2022-02-05T04:56:10.575522Z"
    }
   },
   "outputs": [
    {
     "name": "stdout",
     "output_type": "stream",
     "text": [
      "Epoch 1/170\n",
      "6/6 [==============================] - 5s 277ms/step - loss: 0.7477 - accuracy: 0.4556 - val_loss: 0.6741 - val_accuracy: 0.6000\n",
      "Epoch 2/170\n",
      "6/6 [==============================] - 0s 15ms/step - loss: 0.6901 - accuracy: 0.5333 - val_loss: 0.6741 - val_accuracy: 0.6000\n",
      "Epoch 3/170\n",
      "6/6 [==============================] - 0s 15ms/step - loss: 0.6817 - accuracy: 0.5889 - val_loss: 0.6727 - val_accuracy: 0.6000\n",
      "Epoch 4/170\n",
      "6/6 [==============================] - 0s 15ms/step - loss: 0.7251 - accuracy: 0.4667 - val_loss: 0.6719 - val_accuracy: 0.6000\n",
      "Epoch 5/170\n",
      "6/6 [==============================] - 0s 15ms/step - loss: 0.7352 - accuracy: 0.5000 - val_loss: 0.6711 - val_accuracy: 0.6000\n",
      "Epoch 6/170\n",
      "6/6 [==============================] - 0s 15ms/step - loss: 0.7616 - accuracy: 0.4556 - val_loss: 0.6705 - val_accuracy: 0.6000\n",
      "Epoch 7/170\n",
      "6/6 [==============================] - 0s 15ms/step - loss: 0.7104 - accuracy: 0.5444 - val_loss: 0.6701 - val_accuracy: 0.6000\n",
      "Epoch 8/170\n",
      "6/6 [==============================] - 0s 15ms/step - loss: 0.7183 - accuracy: 0.5222 - val_loss: 0.6696 - val_accuracy: 0.6000\n",
      "Epoch 9/170\n",
      "6/6 [==============================] - 0s 15ms/step - loss: 0.7237 - accuracy: 0.5222 - val_loss: 0.6697 - val_accuracy: 0.6000\n",
      "Epoch 10/170\n",
      "6/6 [==============================] - 0s 15ms/step - loss: 0.7169 - accuracy: 0.5333 - val_loss: 0.6691 - val_accuracy: 0.6000\n",
      "Epoch 11/170\n",
      "6/6 [==============================] - 0s 14ms/step - loss: 0.6920 - accuracy: 0.5778 - val_loss: 0.6684 - val_accuracy: 0.6000\n",
      "Epoch 12/170\n",
      "6/6 [==============================] - 0s 14ms/step - loss: 0.7060 - accuracy: 0.5444 - val_loss: 0.6673 - val_accuracy: 0.6000\n",
      "Epoch 13/170\n",
      "6/6 [==============================] - 0s 15ms/step - loss: 0.7218 - accuracy: 0.5222 - val_loss: 0.6661 - val_accuracy: 0.6000\n",
      "Epoch 14/170\n",
      "6/6 [==============================] - 0s 15ms/step - loss: 0.7253 - accuracy: 0.5556 - val_loss: 0.6661 - val_accuracy: 0.6000\n",
      "Epoch 15/170\n",
      "6/6 [==============================] - 0s 15ms/step - loss: 0.7210 - accuracy: 0.5000 - val_loss: 0.6659 - val_accuracy: 0.6000\n",
      "Epoch 16/170\n",
      "6/6 [==============================] - 0s 15ms/step - loss: 0.7143 - accuracy: 0.4667 - val_loss: 0.6659 - val_accuracy: 0.6000\n",
      "Epoch 17/170\n",
      "6/6 [==============================] - 0s 15ms/step - loss: 0.7115 - accuracy: 0.5333 - val_loss: 0.6656 - val_accuracy: 0.6000\n",
      "Epoch 18/170\n",
      "6/6 [==============================] - 0s 15ms/step - loss: 0.6827 - accuracy: 0.5444 - val_loss: 0.6651 - val_accuracy: 0.6000\n",
      "Epoch 19/170\n",
      "6/6 [==============================] - 0s 15ms/step - loss: 0.7354 - accuracy: 0.5000 - val_loss: 0.6644 - val_accuracy: 0.6000\n",
      "Epoch 20/170\n",
      "6/6 [==============================] - 0s 16ms/step - loss: 0.7013 - accuracy: 0.5556 - val_loss: 0.6640 - val_accuracy: 0.6000\n",
      "Epoch 21/170\n",
      "6/6 [==============================] - 0s 15ms/step - loss: 0.6639 - accuracy: 0.6111 - val_loss: 0.6634 - val_accuracy: 0.6000\n",
      "Epoch 22/170\n",
      "6/6 [==============================] - 0s 15ms/step - loss: 0.6976 - accuracy: 0.5000 - val_loss: 0.6627 - val_accuracy: 0.6000\n",
      "Epoch 23/170\n",
      "6/6 [==============================] - 0s 15ms/step - loss: 0.6999 - accuracy: 0.5889 - val_loss: 0.6622 - val_accuracy: 0.6000\n",
      "Epoch 24/170\n",
      "6/6 [==============================] - 0s 15ms/step - loss: 0.7312 - accuracy: 0.5556 - val_loss: 0.6618 - val_accuracy: 0.6000\n",
      "Epoch 25/170\n",
      "6/6 [==============================] - 0s 15ms/step - loss: 0.6486 - accuracy: 0.6000 - val_loss: 0.6615 - val_accuracy: 0.6000\n",
      "Epoch 26/170\n",
      "6/6 [==============================] - 0s 15ms/step - loss: 0.6851 - accuracy: 0.5000 - val_loss: 0.6614 - val_accuracy: 0.6000\n",
      "Epoch 27/170\n",
      "6/6 [==============================] - 0s 15ms/step - loss: 0.6969 - accuracy: 0.5111 - val_loss: 0.6610 - val_accuracy: 0.6000\n",
      "Epoch 28/170\n",
      "6/6 [==============================] - 0s 15ms/step - loss: 0.7421 - accuracy: 0.5000 - val_loss: 0.6609 - val_accuracy: 0.6000\n",
      "Epoch 29/170\n",
      "6/6 [==============================] - 0s 15ms/step - loss: 0.6826 - accuracy: 0.5444 - val_loss: 0.6608 - val_accuracy: 0.6000\n",
      "Epoch 30/170\n",
      "6/6 [==============================] - 0s 16ms/step - loss: 0.7003 - accuracy: 0.5889 - val_loss: 0.6610 - val_accuracy: 0.6000\n",
      "Epoch 31/170\n",
      "6/6 [==============================] - 0s 16ms/step - loss: 0.6586 - accuracy: 0.6778 - val_loss: 0.6610 - val_accuracy: 0.6000\n",
      "Epoch 32/170\n",
      "6/6 [==============================] - 0s 16ms/step - loss: 0.6745 - accuracy: 0.6000 - val_loss: 0.6609 - val_accuracy: 0.6000\n",
      "Epoch 33/170\n",
      "6/6 [==============================] - 0s 15ms/step - loss: 0.6616 - accuracy: 0.5667 - val_loss: 0.6608 - val_accuracy: 0.6000\n",
      "Epoch 34/170\n",
      "6/6 [==============================] - 0s 15ms/step - loss: 0.6563 - accuracy: 0.5778 - val_loss: 0.6607 - val_accuracy: 0.6000\n",
      "Epoch 35/170\n",
      "6/6 [==============================] - 0s 15ms/step - loss: 0.7044 - accuracy: 0.5333 - val_loss: 0.6599 - val_accuracy: 0.6000\n",
      "Epoch 36/170\n",
      "6/6 [==============================] - 0s 15ms/step - loss: 0.6887 - accuracy: 0.5667 - val_loss: 0.6599 - val_accuracy: 0.6000\n",
      "Epoch 37/170\n",
      "6/6 [==============================] - 0s 15ms/step - loss: 0.7234 - accuracy: 0.5333 - val_loss: 0.6597 - val_accuracy: 0.6000\n",
      "Epoch 38/170\n",
      "6/6 [==============================] - 0s 15ms/step - loss: 0.7146 - accuracy: 0.5667 - val_loss: 0.6592 - val_accuracy: 0.6000\n",
      "Epoch 39/170\n",
      "6/6 [==============================] - 0s 15ms/step - loss: 0.6764 - accuracy: 0.6111 - val_loss: 0.6588 - val_accuracy: 0.6000\n",
      "Epoch 40/170\n",
      "6/6 [==============================] - 0s 15ms/step - loss: 0.6686 - accuracy: 0.5778 - val_loss: 0.6585 - val_accuracy: 0.6000\n",
      "Epoch 41/170\n",
      "6/6 [==============================] - 0s 14ms/step - loss: 0.6725 - accuracy: 0.5778 - val_loss: 0.6583 - val_accuracy: 0.6000\n",
      "Epoch 42/170\n",
      "6/6 [==============================] - 0s 16ms/step - loss: 0.6723 - accuracy: 0.5778 - val_loss: 0.6578 - val_accuracy: 0.6000\n",
      "Epoch 43/170\n",
      "6/6 [==============================] - 0s 16ms/step - loss: 0.6979 - accuracy: 0.5222 - val_loss: 0.6577 - val_accuracy: 0.6000\n",
      "Epoch 44/170\n",
      "6/6 [==============================] - 0s 15ms/step - loss: 0.6631 - accuracy: 0.6000 - val_loss: 0.6572 - val_accuracy: 0.6000\n",
      "Epoch 45/170\n",
      "6/6 [==============================] - 0s 15ms/step - loss: 0.6739 - accuracy: 0.5667 - val_loss: 0.6568 - val_accuracy: 0.6000\n",
      "Epoch 46/170\n",
      "6/6 [==============================] - 0s 15ms/step - loss: 0.6712 - accuracy: 0.5556 - val_loss: 0.6569 - val_accuracy: 0.6000\n",
      "Epoch 47/170\n",
      "6/6 [==============================] - 0s 15ms/step - loss: 0.6800 - accuracy: 0.5333 - val_loss: 0.6564 - val_accuracy: 0.6000\n",
      "Epoch 48/170\n",
      "6/6 [==============================] - 0s 14ms/step - loss: 0.6585 - accuracy: 0.6444 - val_loss: 0.6559 - val_accuracy: 0.6000\n",
      "Epoch 49/170\n",
      "6/6 [==============================] - 0s 15ms/step - loss: 0.6337 - accuracy: 0.6222 - val_loss: 0.6558 - val_accuracy: 0.6000\n",
      "Epoch 50/170\n",
      "6/6 [==============================] - 0s 16ms/step - loss: 0.6893 - accuracy: 0.5222 - val_loss: 0.6559 - val_accuracy: 0.6000\n",
      "Epoch 51/170\n",
      "6/6 [==============================] - 0s 16ms/step - loss: 0.6277 - accuracy: 0.7111 - val_loss: 0.6559 - val_accuracy: 0.6000\n",
      "Epoch 52/170\n",
      "6/6 [==============================] - 0s 16ms/step - loss: 0.6485 - accuracy: 0.6333 - val_loss: 0.6556 - val_accuracy: 0.6000\n",
      "Epoch 53/170\n",
      "6/6 [==============================] - 0s 15ms/step - loss: 0.6653 - accuracy: 0.5556 - val_loss: 0.6551 - val_accuracy: 0.6000\n",
      "Epoch 54/170\n",
      "6/6 [==============================] - 0s 15ms/step - loss: 0.6504 - accuracy: 0.6667 - val_loss: 0.6547 - val_accuracy: 0.6000\n",
      "Epoch 55/170\n",
      "6/6 [==============================] - 0s 16ms/step - loss: 0.6801 - accuracy: 0.6111 - val_loss: 0.6546 - val_accuracy: 0.6000\n",
      "Epoch 56/170\n",
      "6/6 [==============================] - 0s 15ms/step - loss: 0.6614 - accuracy: 0.5778 - val_loss: 0.6544 - val_accuracy: 0.6000\n",
      "Epoch 57/170\n",
      "6/6 [==============================] - 0s 15ms/step - loss: 0.6508 - accuracy: 0.6556 - val_loss: 0.6545 - val_accuracy: 0.6000\n",
      "Epoch 58/170\n",
      "6/6 [==============================] - 0s 16ms/step - loss: 0.6541 - accuracy: 0.6222 - val_loss: 0.6544 - val_accuracy: 0.6000\n",
      "Epoch 59/170\n",
      "6/6 [==============================] - 0s 15ms/step - loss: 0.6454 - accuracy: 0.6667 - val_loss: 0.6539 - val_accuracy: 0.6000\n",
      "Epoch 60/170\n",
      "6/6 [==============================] - 0s 15ms/step - loss: 0.6416 - accuracy: 0.6222 - val_loss: 0.6537 - val_accuracy: 0.6000\n",
      "Epoch 61/170\n",
      "6/6 [==============================] - 0s 15ms/step - loss: 0.6385 - accuracy: 0.6778 - val_loss: 0.6529 - val_accuracy: 0.6000\n",
      "Epoch 62/170\n",
      "6/6 [==============================] - 0s 15ms/step - loss: 0.6660 - accuracy: 0.6222 - val_loss: 0.6526 - val_accuracy: 0.7000\n",
      "Epoch 63/170\n",
      "6/6 [==============================] - 0s 15ms/step - loss: 0.6650 - accuracy: 0.6000 - val_loss: 0.6524 - val_accuracy: 0.7000\n",
      "Epoch 64/170\n",
      "6/6 [==============================] - 0s 19ms/step - loss: 0.6467 - accuracy: 0.6333 - val_loss: 0.6520 - val_accuracy: 0.7000\n",
      "Epoch 65/170\n",
      "6/6 [==============================] - 0s 16ms/step - loss: 0.6656 - accuracy: 0.6222 - val_loss: 0.6522 - val_accuracy: 0.6000\n",
      "Epoch 66/170\n",
      "6/6 [==============================] - 0s 16ms/step - loss: 0.6325 - accuracy: 0.6444 - val_loss: 0.6523 - val_accuracy: 0.6000\n",
      "Epoch 67/170\n",
      "6/6 [==============================] - 0s 15ms/step - loss: 0.6225 - accuracy: 0.6667 - val_loss: 0.6523 - val_accuracy: 0.6000\n",
      "Epoch 68/170\n",
      "6/6 [==============================] - 0s 16ms/step - loss: 0.6427 - accuracy: 0.6222 - val_loss: 0.6522 - val_accuracy: 0.6000\n",
      "Epoch 69/170\n",
      "6/6 [==============================] - 0s 16ms/step - loss: 0.6388 - accuracy: 0.6333 - val_loss: 0.6517 - val_accuracy: 0.7000\n",
      "Epoch 70/170\n",
      "6/6 [==============================] - 0s 15ms/step - loss: 0.6380 - accuracy: 0.6667 - val_loss: 0.6513 - val_accuracy: 0.7000\n",
      "Epoch 71/170\n",
      "6/6 [==============================] - 0s 16ms/step - loss: 0.6529 - accuracy: 0.6556 - val_loss: 0.6509 - val_accuracy: 0.7000\n",
      "Epoch 72/170\n",
      "6/6 [==============================] - 0s 16ms/step - loss: 0.6212 - accuracy: 0.7000 - val_loss: 0.6503 - val_accuracy: 0.7000\n",
      "Epoch 73/170\n",
      "6/6 [==============================] - 0s 15ms/step - loss: 0.6386 - accuracy: 0.6333 - val_loss: 0.6503 - val_accuracy: 0.7000\n",
      "Epoch 74/170\n",
      "6/6 [==============================] - 0s 16ms/step - loss: 0.6229 - accuracy: 0.6333 - val_loss: 0.6501 - val_accuracy: 0.7000\n",
      "Epoch 75/170\n",
      "6/6 [==============================] - 0s 15ms/step - loss: 0.6262 - accuracy: 0.7333 - val_loss: 0.6502 - val_accuracy: 0.7000\n",
      "Epoch 76/170\n",
      "6/6 [==============================] - 0s 15ms/step - loss: 0.6250 - accuracy: 0.6667 - val_loss: 0.6500 - val_accuracy: 0.7000\n",
      "Epoch 77/170\n",
      "6/6 [==============================] - 0s 16ms/step - loss: 0.6296 - accuracy: 0.6889 - val_loss: 0.6500 - val_accuracy: 0.7000\n",
      "Epoch 78/170\n",
      "6/6 [==============================] - 0s 16ms/step - loss: 0.6771 - accuracy: 0.5444 - val_loss: 0.6497 - val_accuracy: 0.7000\n",
      "Epoch 79/170\n",
      "6/6 [==============================] - 0s 16ms/step - loss: 0.6316 - accuracy: 0.7111 - val_loss: 0.6492 - val_accuracy: 0.7000\n",
      "Epoch 80/170\n",
      "6/6 [==============================] - 0s 15ms/step - loss: 0.6555 - accuracy: 0.6556 - val_loss: 0.6485 - val_accuracy: 0.7000\n",
      "Epoch 81/170\n",
      "6/6 [==============================] - 0s 15ms/step - loss: 0.6264 - accuracy: 0.6556 - val_loss: 0.6481 - val_accuracy: 0.7000\n",
      "Epoch 82/170\n",
      "6/6 [==============================] - 0s 16ms/step - loss: 0.6392 - accuracy: 0.7111 - val_loss: 0.6482 - val_accuracy: 0.7000\n",
      "Epoch 83/170\n",
      "6/6 [==============================] - 0s 16ms/step - loss: 0.6299 - accuracy: 0.6556 - val_loss: 0.6484 - val_accuracy: 0.7000\n",
      "Epoch 84/170\n",
      "6/6 [==============================] - 0s 16ms/step - loss: 0.6170 - accuracy: 0.6778 - val_loss: 0.6483 - val_accuracy: 0.7000\n",
      "Epoch 85/170\n",
      "6/6 [==============================] - 0s 16ms/step - loss: 0.5903 - accuracy: 0.7222 - val_loss: 0.6489 - val_accuracy: 0.7000\n",
      "Epoch 86/170\n",
      "6/6 [==============================] - 0s 15ms/step - loss: 0.6316 - accuracy: 0.6556 - val_loss: 0.6495 - val_accuracy: 0.7000\n",
      "Epoch 87/170\n",
      "6/6 [==============================] - 0s 15ms/step - loss: 0.6418 - accuracy: 0.6444 - val_loss: 0.6494 - val_accuracy: 0.7000\n",
      "Epoch 88/170\n",
      "6/6 [==============================] - 0s 15ms/step - loss: 0.6107 - accuracy: 0.7000 - val_loss: 0.6497 - val_accuracy: 0.6000\n",
      "Epoch 89/170\n",
      "6/6 [==============================] - 0s 15ms/step - loss: 0.6434 - accuracy: 0.5667 - val_loss: 0.6494 - val_accuracy: 0.6000\n",
      "Epoch 90/170\n",
      "6/6 [==============================] - 0s 15ms/step - loss: 0.6463 - accuracy: 0.6667 - val_loss: 0.6491 - val_accuracy: 0.6000\n",
      "Epoch 91/170\n",
      "6/6 [==============================] - 0s 15ms/step - loss: 0.6177 - accuracy: 0.7222 - val_loss: 0.6490 - val_accuracy: 0.6000\n",
      "Epoch 92/170\n",
      "6/6 [==============================] - 0s 15ms/step - loss: 0.6614 - accuracy: 0.6111 - val_loss: 0.6492 - val_accuracy: 0.6000\n",
      "Epoch 93/170\n",
      "6/6 [==============================] - 0s 15ms/step - loss: 0.6055 - accuracy: 0.7778 - val_loss: 0.6488 - val_accuracy: 0.6000\n",
      "Epoch 94/170\n",
      "6/6 [==============================] - 0s 14ms/step - loss: 0.6100 - accuracy: 0.7222 - val_loss: 0.6491 - val_accuracy: 0.6000\n",
      "Epoch 95/170\n",
      "6/6 [==============================] - 0s 15ms/step - loss: 0.6093 - accuracy: 0.6222 - val_loss: 0.6495 - val_accuracy: 0.6000\n",
      "Epoch 96/170\n",
      "6/6 [==============================] - 0s 15ms/step - loss: 0.6264 - accuracy: 0.6778 - val_loss: 0.6495 - val_accuracy: 0.6000\n",
      "Epoch 97/170\n",
      "6/6 [==============================] - 0s 36ms/step - loss: 0.6200 - accuracy: 0.6667 - val_loss: 0.6497 - val_accuracy: 0.6000\n",
      "Epoch 98/170\n",
      "6/6 [==============================] - 0s 24ms/step - loss: 0.6137 - accuracy: 0.6778 - val_loss: 0.6495 - val_accuracy: 0.6000\n",
      "Epoch 99/170\n",
      "6/6 [==============================] - 0s 21ms/step - loss: 0.6548 - accuracy: 0.6333 - val_loss: 0.6500 - val_accuracy: 0.7000\n",
      "Epoch 100/170\n",
      "6/6 [==============================] - 0s 21ms/step - loss: 0.6389 - accuracy: 0.6444 - val_loss: 0.6498 - val_accuracy: 0.6000\n",
      "Epoch 101/170\n",
      "6/6 [==============================] - 0s 23ms/step - loss: 0.6027 - accuracy: 0.7222 - val_loss: 0.6494 - val_accuracy: 0.6000\n",
      "Epoch 102/170\n",
      "6/6 [==============================] - 0s 18ms/step - loss: 0.6194 - accuracy: 0.7111 - val_loss: 0.6489 - val_accuracy: 0.6000\n",
      "Epoch 103/170\n",
      "6/6 [==============================] - 0s 16ms/step - loss: 0.6492 - accuracy: 0.6111 - val_loss: 0.6480 - val_accuracy: 0.7000\n",
      "Epoch 104/170\n",
      "6/6 [==============================] - 0s 16ms/step - loss: 0.6062 - accuracy: 0.6667 - val_loss: 0.6473 - val_accuracy: 0.7000\n",
      "Epoch 105/170\n",
      "6/6 [==============================] - 0s 15ms/step - loss: 0.6247 - accuracy: 0.7000 - val_loss: 0.6469 - val_accuracy: 0.7000\n",
      "Epoch 106/170\n",
      "6/6 [==============================] - 0s 15ms/step - loss: 0.6191 - accuracy: 0.7111 - val_loss: 0.6468 - val_accuracy: 0.7000\n",
      "Epoch 107/170\n",
      "6/6 [==============================] - 0s 17ms/step - loss: 0.5921 - accuracy: 0.7333 - val_loss: 0.6470 - val_accuracy: 0.7000\n",
      "Epoch 108/170\n",
      "6/6 [==============================] - 0s 16ms/step - loss: 0.6116 - accuracy: 0.7111 - val_loss: 0.6468 - val_accuracy: 0.7000\n",
      "Epoch 109/170\n",
      "6/6 [==============================] - 0s 16ms/step - loss: 0.5782 - accuracy: 0.7111 - val_loss: 0.6469 - val_accuracy: 0.7000\n",
      "Epoch 110/170\n",
      "6/6 [==============================] - 0s 16ms/step - loss: 0.6083 - accuracy: 0.7333 - val_loss: 0.6463 - val_accuracy: 0.7000\n",
      "Epoch 111/170\n",
      "6/6 [==============================] - 0s 16ms/step - loss: 0.6229 - accuracy: 0.7000 - val_loss: 0.6463 - val_accuracy: 0.7000\n",
      "Epoch 112/170\n",
      "6/6 [==============================] - 0s 15ms/step - loss: 0.6095 - accuracy: 0.7000 - val_loss: 0.6459 - val_accuracy: 0.7000\n",
      "Epoch 113/170\n",
      "6/6 [==============================] - 0s 15ms/step - loss: 0.6164 - accuracy: 0.7111 - val_loss: 0.6457 - val_accuracy: 0.7000\n",
      "Epoch 114/170\n",
      "6/6 [==============================] - 0s 15ms/step - loss: 0.6265 - accuracy: 0.6667 - val_loss: 0.6460 - val_accuracy: 0.7000\n",
      "Epoch 115/170\n",
      "6/6 [==============================] - 0s 15ms/step - loss: 0.5980 - accuracy: 0.6889 - val_loss: 0.6458 - val_accuracy: 0.7000\n",
      "Epoch 116/170\n",
      "6/6 [==============================] - 0s 15ms/step - loss: 0.6181 - accuracy: 0.6667 - val_loss: 0.6455 - val_accuracy: 0.7000\n",
      "Epoch 117/170\n",
      "6/6 [==============================] - 0s 15ms/step - loss: 0.6098 - accuracy: 0.6667 - val_loss: 0.6454 - val_accuracy: 0.7000\n",
      "Epoch 118/170\n",
      "6/6 [==============================] - 0s 15ms/step - loss: 0.5816 - accuracy: 0.7444 - val_loss: 0.6456 - val_accuracy: 0.7000\n",
      "Epoch 119/170\n",
      "6/6 [==============================] - 0s 15ms/step - loss: 0.5720 - accuracy: 0.7222 - val_loss: 0.6459 - val_accuracy: 0.7000\n",
      "Epoch 120/170\n",
      "6/6 [==============================] - 0s 15ms/step - loss: 0.6308 - accuracy: 0.6889 - val_loss: 0.6461 - val_accuracy: 0.7000\n",
      "Epoch 121/170\n",
      "6/6 [==============================] - 0s 15ms/step - loss: 0.6028 - accuracy: 0.7444 - val_loss: 0.6458 - val_accuracy: 0.7000\n",
      "Epoch 122/170\n",
      "6/6 [==============================] - 0s 14ms/step - loss: 0.5918 - accuracy: 0.7333 - val_loss: 0.6460 - val_accuracy: 0.7000\n",
      "Epoch 123/170\n",
      "6/6 [==============================] - 0s 15ms/step - loss: 0.5933 - accuracy: 0.7000 - val_loss: 0.6462 - val_accuracy: 0.7000\n",
      "Epoch 124/170\n",
      "6/6 [==============================] - 0s 15ms/step - loss: 0.6174 - accuracy: 0.6444 - val_loss: 0.6465 - val_accuracy: 0.7000\n",
      "Epoch 125/170\n",
      "6/6 [==============================] - 0s 16ms/step - loss: 0.5790 - accuracy: 0.7222 - val_loss: 0.6466 - val_accuracy: 0.7000\n",
      "Epoch 126/170\n",
      "6/6 [==============================] - 0s 15ms/step - loss: 0.6476 - accuracy: 0.6222 - val_loss: 0.6464 - val_accuracy: 0.7000\n",
      "Epoch 127/170\n",
      "6/6 [==============================] - 0s 16ms/step - loss: 0.5759 - accuracy: 0.7333 - val_loss: 0.6461 - val_accuracy: 0.7000\n",
      "Epoch 128/170\n",
      "6/6 [==============================] - 0s 16ms/step - loss: 0.5597 - accuracy: 0.7444 - val_loss: 0.6455 - val_accuracy: 0.7000\n",
      "Epoch 129/170\n",
      "6/6 [==============================] - 0s 15ms/step - loss: 0.5907 - accuracy: 0.7000 - val_loss: 0.6453 - val_accuracy: 0.7000\n",
      "Epoch 130/170\n",
      "6/6 [==============================] - 0s 15ms/step - loss: 0.5865 - accuracy: 0.7667 - val_loss: 0.6452 - val_accuracy: 0.7000\n",
      "Epoch 131/170\n",
      "6/6 [==============================] - 0s 15ms/step - loss: 0.5679 - accuracy: 0.7222 - val_loss: 0.6452 - val_accuracy: 0.7000\n",
      "Epoch 132/170\n",
      "6/6 [==============================] - 0s 15ms/step - loss: 0.6208 - accuracy: 0.6667 - val_loss: 0.6448 - val_accuracy: 0.7000\n",
      "Epoch 133/170\n",
      "6/6 [==============================] - 0s 15ms/step - loss: 0.5866 - accuracy: 0.7444 - val_loss: 0.6447 - val_accuracy: 0.7000\n",
      "Epoch 134/170\n",
      "6/6 [==============================] - 0s 15ms/step - loss: 0.5889 - accuracy: 0.7222 - val_loss: 0.6451 - val_accuracy: 0.7000\n",
      "Epoch 135/170\n",
      "6/6 [==============================] - 0s 16ms/step - loss: 0.6008 - accuracy: 0.6889 - val_loss: 0.6455 - val_accuracy: 0.7000\n",
      "Epoch 136/170\n",
      "6/6 [==============================] - 0s 16ms/step - loss: 0.5658 - accuracy: 0.7778 - val_loss: 0.6456 - val_accuracy: 0.7000\n",
      "Epoch 137/170\n",
      "6/6 [==============================] - 0s 16ms/step - loss: 0.5851 - accuracy: 0.7000 - val_loss: 0.6452 - val_accuracy: 0.7000\n",
      "Epoch 138/170\n",
      "6/6 [==============================] - 0s 16ms/step - loss: 0.5905 - accuracy: 0.6556 - val_loss: 0.6451 - val_accuracy: 0.7000\n",
      "Epoch 139/170\n",
      "6/6 [==============================] - 0s 16ms/step - loss: 0.6020 - accuracy: 0.7111 - val_loss: 0.6448 - val_accuracy: 0.7000\n",
      "Epoch 140/170\n",
      "6/6 [==============================] - 0s 15ms/step - loss: 0.6087 - accuracy: 0.7000 - val_loss: 0.6441 - val_accuracy: 0.7000\n",
      "Epoch 141/170\n",
      "6/6 [==============================] - 0s 16ms/step - loss: 0.5260 - accuracy: 0.7889 - val_loss: 0.6438 - val_accuracy: 0.7000\n",
      "Epoch 142/170\n",
      "6/6 [==============================] - 0s 16ms/step - loss: 0.5966 - accuracy: 0.7222 - val_loss: 0.6436 - val_accuracy: 0.7000\n",
      "Epoch 143/170\n",
      "6/6 [==============================] - 0s 15ms/step - loss: 0.5830 - accuracy: 0.7667 - val_loss: 0.6438 - val_accuracy: 0.7000\n",
      "Epoch 144/170\n",
      "6/6 [==============================] - 0s 15ms/step - loss: 0.6049 - accuracy: 0.6667 - val_loss: 0.6436 - val_accuracy: 0.7000\n",
      "Epoch 145/170\n",
      "6/6 [==============================] - 0s 16ms/step - loss: 0.5822 - accuracy: 0.7444 - val_loss: 0.6439 - val_accuracy: 0.7000\n",
      "Epoch 146/170\n",
      "6/6 [==============================] - 0s 16ms/step - loss: 0.5636 - accuracy: 0.7778 - val_loss: 0.6442 - val_accuracy: 0.7000\n",
      "Epoch 147/170\n",
      "6/6 [==============================] - 0s 15ms/step - loss: 0.5424 - accuracy: 0.8111 - val_loss: 0.6443 - val_accuracy: 0.7000\n",
      "Epoch 148/170\n",
      "6/6 [==============================] - 0s 17ms/step - loss: 0.5382 - accuracy: 0.7889 - val_loss: 0.6444 - val_accuracy: 0.7000\n",
      "Epoch 149/170\n",
      "6/6 [==============================] - 0s 16ms/step - loss: 0.5899 - accuracy: 0.7556 - val_loss: 0.6451 - val_accuracy: 0.7000\n",
      "Epoch 150/170\n",
      "6/6 [==============================] - 0s 16ms/step - loss: 0.5893 - accuracy: 0.7333 - val_loss: 0.6454 - val_accuracy: 0.7000\n",
      "Epoch 151/170\n",
      "6/6 [==============================] - 0s 15ms/step - loss: 0.5822 - accuracy: 0.7667 - val_loss: 0.6453 - val_accuracy: 0.7000\n",
      "Epoch 152/170\n",
      "6/6 [==============================] - 0s 16ms/step - loss: 0.5762 - accuracy: 0.7333 - val_loss: 0.6458 - val_accuracy: 0.7000\n",
      "Epoch 153/170\n",
      "6/6 [==============================] - 0s 16ms/step - loss: 0.5988 - accuracy: 0.7111 - val_loss: 0.6458 - val_accuracy: 0.7000\n",
      "Epoch 154/170\n",
      "6/6 [==============================] - 0s 15ms/step - loss: 0.5926 - accuracy: 0.7333 - val_loss: 0.6463 - val_accuracy: 0.7000\n",
      "Epoch 155/170\n",
      "6/6 [==============================] - 0s 15ms/step - loss: 0.5646 - accuracy: 0.7222 - val_loss: 0.6464 - val_accuracy: 0.7000\n",
      "Epoch 156/170\n",
      "6/6 [==============================] - 0s 15ms/step - loss: 0.5760 - accuracy: 0.7667 - val_loss: 0.6472 - val_accuracy: 0.7000\n",
      "Epoch 157/170\n",
      "6/6 [==============================] - 0s 15ms/step - loss: 0.5458 - accuracy: 0.7889 - val_loss: 0.6477 - val_accuracy: 0.8000\n",
      "Epoch 158/170\n",
      "6/6 [==============================] - 0s 15ms/step - loss: 0.5929 - accuracy: 0.6889 - val_loss: 0.6478 - val_accuracy: 0.8000\n",
      "Epoch 159/170\n",
      "6/6 [==============================] - 0s 16ms/step - loss: 0.5902 - accuracy: 0.6889 - val_loss: 0.6481 - val_accuracy: 0.8000\n",
      "Epoch 160/170\n",
      "6/6 [==============================] - 0s 16ms/step - loss: 0.5975 - accuracy: 0.7222 - val_loss: 0.6483 - val_accuracy: 0.8000\n",
      "Epoch 161/170\n",
      "6/6 [==============================] - 0s 16ms/step - loss: 0.5630 - accuracy: 0.7778 - val_loss: 0.6482 - val_accuracy: 0.8000\n",
      "Epoch 162/170\n",
      "6/6 [==============================] - 0s 16ms/step - loss: 0.5490 - accuracy: 0.8000 - val_loss: 0.6482 - val_accuracy: 0.8000\n",
      "Epoch 163/170\n",
      "6/6 [==============================] - 0s 15ms/step - loss: 0.5637 - accuracy: 0.7444 - val_loss: 0.6479 - val_accuracy: 0.8000\n",
      "Epoch 164/170\n",
      "6/6 [==============================] - 0s 17ms/step - loss: 0.5640 - accuracy: 0.7778 - val_loss: 0.6479 - val_accuracy: 0.8000\n",
      "Epoch 165/170\n",
      "6/6 [==============================] - 0s 15ms/step - loss: 0.5494 - accuracy: 0.7667 - val_loss: 0.6479 - val_accuracy: 0.8000\n",
      "Epoch 166/170\n",
      "6/6 [==============================] - 0s 15ms/step - loss: 0.5780 - accuracy: 0.7222 - val_loss: 0.6489 - val_accuracy: 0.8000\n",
      "Epoch 167/170\n",
      "6/6 [==============================] - 0s 16ms/step - loss: 0.5538 - accuracy: 0.7667 - val_loss: 0.6497 - val_accuracy: 0.8000\n",
      "Epoch 168/170\n",
      "6/6 [==============================] - 0s 16ms/step - loss: 0.5444 - accuracy: 0.7333 - val_loss: 0.6496 - val_accuracy: 0.8000\n",
      "Epoch 169/170\n",
      "6/6 [==============================] - 0s 17ms/step - loss: 0.5289 - accuracy: 0.7889 - val_loss: 0.6498 - val_accuracy: 0.8000\n",
      "Epoch 170/170\n",
      "6/6 [==============================] - 0s 14ms/step - loss: 0.5284 - accuracy: 0.8222 - val_loss: 0.6482 - val_accuracy: 0.8000\n"
     ]
    }
   ],
   "source": [
    "model = build_classifier()\n",
    "history = model.fit(x=[X_train, mask_train],y=y_train,validation_data=([X_test,mask_test],y_test), epochs=170, batch_size=15)\n"
   ]
  },
  {
   "cell_type": "code",
   "execution_count": 42,
   "metadata": {
    "execution": {
     "iopub.execute_input": "2022-02-05T04:56:51.954558Z",
     "iopub.status.busy": "2022-02-05T04:56:51.954241Z",
     "iopub.status.idle": "2022-02-05T04:56:52.006389Z",
     "shell.execute_reply": "2022-02-05T04:56:52.005307Z",
     "shell.execute_reply.started": "2022-02-05T04:56:51.954527Z"
    }
   },
   "outputs": [],
   "source": [
    "model.save('lstm_model.h5')\n",
    "\n",
    "# returns a compiled model\n",
    "# identical to the previous one\n",
    "#model = load_model('lstm_model.h5')"
   ]
  },
  {
   "cell_type": "code",
   "execution_count": 50,
   "metadata": {
    "execution": {
     "iopub.execute_input": "2022-02-05T05:05:07.112198Z",
     "iopub.status.busy": "2022-02-05T05:05:07.111907Z",
     "iopub.status.idle": "2022-02-05T05:05:07.502946Z",
     "shell.execute_reply": "2022-02-05T05:05:07.499876Z",
     "shell.execute_reply.started": "2022-02-05T05:05:07.112166Z"
    }
   },
   "outputs": [
    {
     "data": {
      "image/png": "[encoded data removed]",
      "text/plain": [
       "<Figure size 720x504 with 1 Axes>"
      ]
     },
     "metadata": {},
     "output_type": "display_data"
    }
   ],
   "source": [
    "import seaborn as sns\n",
    "import matplotlib.pyplot as plt\n",
    "\n",
    "plt.figure(figsize=(10,7))\n",
    "sns.set(font_scale=1.5) \n",
    "sns.lineplot(y=history.history['loss'], x=range(0,170),marker='o',label=\"train_loss\")\n",
    "sns.lineplot(y=history.history['val_loss'], x=range(0,170), marker='o',label=\"val_loss\")\n",
    "\n",
    "plt.legend()\n",
    "\n",
    "plt.ylabel(\"loss\")\n",
    "plt.xlabel(\"epochs\")\n",
    "plt.title(\"LSTM Model - Loss Graph\")\n",
    "plt.show()"
   ]
  },
  {
   "cell_type": "code",
   "execution_count": 51,
   "metadata": {
    "execution": {
     "iopub.execute_input": "2022-02-05T05:05:07.505454Z",
     "iopub.status.busy": "2022-02-05T05:05:07.505022Z",
     "iopub.status.idle": "2022-02-05T05:05:07.909674Z",
     "shell.execute_reply": "2022-02-05T05:05:07.908525Z",
     "shell.execute_reply.started": "2022-02-05T05:05:07.505373Z"
    }
   },
   "outputs": [
    {
     "data": {
      "image/png": "[encoded data removed]",
      "text/plain": [
       "<Figure size 720x504 with 1 Axes>"
      ]
     },
     "metadata": {},
     "output_type": "display_data"
    }
   ],
   "source": [
    "plt.figure(figsize=(10,7))\n",
    "sns.set(font_scale=1.5) \n",
    "sns.lineplot(y=history.history['accuracy'], x=range(0,170),marker='o',label=\"train_accuracy\")\n",
    "sns.lineplot(y=history.history['val_accuracy'], x=range(0,170), marker='o',label=\"val_accuracy\")\n",
    "\n",
    "plt.legend()\n",
    "\n",
    "plt.ylabel(\"Accuracy\")\n",
    "plt.xlabel(\"epochs\")\n",
    "plt.title(\"LSTM Model - Accuracy Graph\")\n",
    "plt.show()"
   ]
  },
  {
   "cell_type": "markdown",
   "metadata": {},
   "source": [
    "### Observations:-\n",
    "- After lot of experimentation with batchsize, epochs, lr , optimizers,lstm units, this model seems to perform reasonably well.\n",
    "- Train accuracy of around 82% achieved.\n",
    "- Validation accuracy of around 80% achieved which seems good. As per the graph one reason for constant val accuracy for some time could be less amount of data taken for val. But thats the trade-off done to have more training data.\n",
    "- This shows LSTM model would work phenomenally well if we could have more data. To conclude this model works best for this data among all other considered.\n"
   ]
  },
  {
   "cell_type": "code",
   "execution_count": null,
   "metadata": {},
   "outputs": [],
   "source": [
    "################################################# THE END ###################################################################"
   ]
  }
 ],
 "metadata": {
  "kernelspec": {
   "display_name": "Python 3",
   "language": "python",
   "name": "python3"
  },
  "language_info": {
   "codemirror_mode": {
    "name": "ipython",
    "version": 3
   },
   "file_extension": ".py",
   "mimetype": "text/x-python",
   "name": "python",
   "nbconvert_exporter": "python",
   "pygments_lexer": "ipython3",
   "version": "3.8.5"
  }
 },
 "nbformat": 4,
 "nbformat_minor": 4
}
